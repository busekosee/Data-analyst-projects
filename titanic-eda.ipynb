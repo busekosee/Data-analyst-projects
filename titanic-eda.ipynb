{
 "cells": [
  {
   "cell_type": "markdown",
   "id": "5b4b2cbf",
   "metadata": {
    "papermill": {
     "duration": 0.016097,
     "end_time": "2024-08-01T15:24:13.254220",
     "exception": false,
     "start_time": "2024-08-01T15:24:13.238123",
     "status": "completed"
    },
    "tags": []
   },
   "source": [
    "INTRODUCTION\n",
    "The sinking of the Titanic was both a bad and famous ship accident in history. It happened in 1912. The Titanic sank as a result of hitting an iceberg. 1502 people died and there were 2224 people on the ship, including the crew.\n",
    "Content:\n",
    "1. [Upload and Check Data.](#1)\n",
    "2. [Variable Description.](#2)\n",
    "3. [Univariate Variable Analysis.](#3)\n",
    "4. [Basic Data Analysis.](#4)\n",
    "5. [Outlier Ditection.](#5)\n",
    "6. [Missing Value.](#6)"
   ]
  },
  {
   "cell_type": "code",
   "execution_count": 1,
   "id": "8afb3518",
   "metadata": {
    "_cell_guid": "b1076dfc-b9ad-4769-8c92-a6c4dae69d19",
    "_uuid": "8f2839f25d086af736a60e9eeb907d3b93b6e0e5",
    "execution": {
     "iopub.execute_input": "2024-08-01T15:24:13.285837Z",
     "iopub.status.busy": "2024-08-01T15:24:13.285421Z",
     "iopub.status.idle": "2024-08-01T15:24:15.622225Z",
     "shell.execute_reply": "2024-08-01T15:24:15.620491Z"
    },
    "papermill": {
     "duration": 2.355857,
     "end_time": "2024-08-01T15:24:15.625068",
     "exception": false,
     "start_time": "2024-08-01T15:24:13.269211",
     "status": "completed"
    },
    "tags": []
   },
   "outputs": [
    {
     "name": "stdout",
     "output_type": "stream",
     "text": [
      "/kaggle/input/dataset/train.csv\n",
      "/kaggle/input/dataset/test.csv\n",
      "/kaggle/input/dataset/gender_submission.csv\n"
     ]
    }
   ],
   "source": [
    "\n",
    "\n",
    "import numpy as np  # linear algebra\n",
    "import pandas as pd  # data processing, CSV file I/O (e.g. pd.read_csv)\n",
    "import matplotlib.pyplot as plt\n",
    "import seaborn as sns\n",
    "import os\n",
    "from collections import Counter\n",
    "import warnings\n",
    "warnings.filterwarnings(\"ignore\")\n",
    "# Set style using seaborn's API\n",
    "sns.set_style(\"whitegrid\")\n",
    "\n",
    "# Display file paths in the kaggle/input directory\n",
    "for dirname, _, filenames in os.walk('/kaggle/input'):\n",
    "    for filename in filenames:\n",
    "        print(os.path.join(dirname, filename))"
   ]
  },
  {
   "cell_type": "code",
   "execution_count": 2,
   "id": "9e906fd7",
   "metadata": {
    "execution": {
     "iopub.execute_input": "2024-08-01T15:24:15.656244Z",
     "iopub.status.busy": "2024-08-01T15:24:15.655707Z",
     "iopub.status.idle": "2024-08-01T15:24:16.071343Z",
     "shell.execute_reply": "2024-08-01T15:24:16.070142Z"
    },
    "papermill": {
     "duration": 0.434461,
     "end_time": "2024-08-01T15:24:16.074239",
     "exception": false,
     "start_time": "2024-08-01T15:24:15.639778",
     "status": "completed"
    },
    "tags": []
   },
   "outputs": [
    {
     "data": {
      "image/png": "[encoded data removed]",
      "text/plain": [
       "<Figure size 640x480 with 1 Axes>"
      ]
     },
     "metadata": {},
     "output_type": "display_data"
    }
   ],
   "source": [
    "a = [1, 2, 3, 4]  # converted set to list for plotting\n",
    "plt.plot(a)\n",
    "plt.title(\"Example Plot\")\n",
    "plt.xlabel(\"Index\")\n",
    "plt.ylabel(\"Value\")\n",
    "plt.show()\n"
   ]
  },
  {
   "cell_type": "markdown",
   "id": "08abcd00",
   "metadata": {
    "papermill": {
     "duration": 0.014794,
     "end_time": "2024-08-01T15:24:16.104218",
     "exception": false,
     "start_time": "2024-08-01T15:24:16.089424",
     "status": "completed"
    },
    "tags": []
   },
   "source": [
    "# LOAD AND CHECK DATA."
   ]
  },
  {
   "cell_type": "code",
   "execution_count": 3,
   "id": "a10602b1",
   "metadata": {
    "execution": {
     "iopub.execute_input": "2024-08-01T15:24:16.137195Z",
     "iopub.status.busy": "2024-08-01T15:24:16.136749Z",
     "iopub.status.idle": "2024-08-01T15:24:16.174729Z",
     "shell.execute_reply": "2024-08-01T15:24:16.173688Z"
    },
    "papermill": {
     "duration": 0.057319,
     "end_time": "2024-08-01T15:24:16.177555",
     "exception": false,
     "start_time": "2024-08-01T15:24:16.120236",
     "status": "completed"
    },
    "tags": []
   },
   "outputs": [],
   "source": [
    "train_df = pd.read_csv(\"/kaggle/input/dataset/train.csv\")\n",
    "test_df = pd.read_csv(\"/kaggle/input/dataset/test.csv\")\n",
    "test_PassengerId = test_df[\"PassengerId\"]"
   ]
  },
  {
   "cell_type": "code",
   "execution_count": 4,
   "id": "3f7bfa26",
   "metadata": {
    "execution": {
     "iopub.execute_input": "2024-08-01T15:24:16.210068Z",
     "iopub.status.busy": "2024-08-01T15:24:16.209602Z",
     "iopub.status.idle": "2024-08-01T15:24:16.218797Z",
     "shell.execute_reply": "2024-08-01T15:24:16.217709Z"
    },
    "papermill": {
     "duration": 0.028159,
     "end_time": "2024-08-01T15:24:16.221213",
     "exception": false,
     "start_time": "2024-08-01T15:24:16.193054",
     "status": "completed"
    },
    "tags": []
   },
   "outputs": [
    {
     "data": {
      "text/plain": [
       "Index(['PassengerId', 'Survived', 'Pclass', 'Name', 'Sex', 'Age', 'SibSp',\n",
       "       'Parch', 'Ticket', 'Fare', 'Cabin', 'Embarked'],\n",
       "      dtype='object')"
      ]
     },
     "execution_count": 4,
     "metadata": {},
     "output_type": "execute_result"
    }
   ],
   "source": [
    "train_df.columns"
   ]
  },
  {
   "cell_type": "code",
   "execution_count": 5,
   "id": "02f14a01",
   "metadata": {
    "execution": {
     "iopub.execute_input": "2024-08-01T15:24:16.253663Z",
     "iopub.status.busy": "2024-08-01T15:24:16.253270Z",
     "iopub.status.idle": "2024-08-01T15:24:16.277217Z",
     "shell.execute_reply": "2024-08-01T15:24:16.276152Z"
    },
    "papermill": {
     "duration": 0.043224,
     "end_time": "2024-08-01T15:24:16.279768",
     "exception": false,
     "start_time": "2024-08-01T15:24:16.236544",
     "status": "completed"
    },
    "tags": []
   },
   "outputs": [
    {
     "data": {
      "text/html": [
       "<div>\n",
       "<style scoped>\n",
       "    .dataframe tbody tr th:only-of-type {\n",
       "        vertical-align: middle;\n",
       "    }\n",
       "\n",
       "    .dataframe tbody tr th {\n",
       "        vertical-align: top;\n",
       "    }\n",
       "\n",
       "    .dataframe thead th {\n",
       "        text-align: right;\n",
       "    }\n",
       "</style>\n",
       "<table border=\"1\" class=\"dataframe\">\n",
       "  <thead>\n",
       "    <tr style=\"text-align: right;\">\n",
       "      <th></th>\n",
       "      <th>PassengerId</th>\n",
       "      <th>Survived</th>\n",
       "      <th>Pclass</th>\n",
       "      <th>Name</th>\n",
       "      <th>Sex</th>\n",
       "      <th>Age</th>\n",
       "      <th>SibSp</th>\n",
       "      <th>Parch</th>\n",
       "      <th>Ticket</th>\n",
       "      <th>Fare</th>\n",
       "      <th>Cabin</th>\n",
       "      <th>Embarked</th>\n",
       "    </tr>\n",
       "  </thead>\n",
       "  <tbody>\n",
       "    <tr>\n",
       "      <th>0</th>\n",
       "      <td>1</td>\n",
       "      <td>0</td>\n",
       "      <td>3</td>\n",
       "      <td>Braund, Mr. Owen Harris</td>\n",
       "      <td>male</td>\n",
       "      <td>22.0</td>\n",
       "      <td>1</td>\n",
       "      <td>0</td>\n",
       "      <td>A/5 21171</td>\n",
       "      <td>7.2500</td>\n",
       "      <td>NaN</td>\n",
       "      <td>S</td>\n",
       "    </tr>\n",
       "    <tr>\n",
       "      <th>1</th>\n",
       "      <td>2</td>\n",
       "      <td>1</td>\n",
       "      <td>1</td>\n",
       "      <td>Cumings, Mrs. John Bradley (Florence Briggs Th...</td>\n",
       "      <td>female</td>\n",
       "      <td>38.0</td>\n",
       "      <td>1</td>\n",
       "      <td>0</td>\n",
       "      <td>PC 17599</td>\n",
       "      <td>71.2833</td>\n",
       "      <td>C85</td>\n",
       "      <td>C</td>\n",
       "    </tr>\n",
       "    <tr>\n",
       "      <th>2</th>\n",
       "      <td>3</td>\n",
       "      <td>1</td>\n",
       "      <td>3</td>\n",
       "      <td>Heikkinen, Miss. Laina</td>\n",
       "      <td>female</td>\n",
       "      <td>26.0</td>\n",
       "      <td>0</td>\n",
       "      <td>0</td>\n",
       "      <td>STON/O2. 3101282</td>\n",
       "      <td>7.9250</td>\n",
       "      <td>NaN</td>\n",
       "      <td>S</td>\n",
       "    </tr>\n",
       "    <tr>\n",
       "      <th>3</th>\n",
       "      <td>4</td>\n",
       "      <td>1</td>\n",
       "      <td>1</td>\n",
       "      <td>Futrelle, Mrs. Jacques Heath (Lily May Peel)</td>\n",
       "      <td>female</td>\n",
       "      <td>35.0</td>\n",
       "      <td>1</td>\n",
       "      <td>0</td>\n",
       "      <td>113803</td>\n",
       "      <td>53.1000</td>\n",
       "      <td>C123</td>\n",
       "      <td>S</td>\n",
       "    </tr>\n",
       "    <tr>\n",
       "      <th>4</th>\n",
       "      <td>5</td>\n",
       "      <td>0</td>\n",
       "      <td>3</td>\n",
       "      <td>Allen, Mr. William Henry</td>\n",
       "      <td>male</td>\n",
       "      <td>35.0</td>\n",
       "      <td>0</td>\n",
       "      <td>0</td>\n",
       "      <td>373450</td>\n",
       "      <td>8.0500</td>\n",
       "      <td>NaN</td>\n",
       "      <td>S</td>\n",
       "    </tr>\n",
       "  </tbody>\n",
       "</table>\n",
       "</div>"
      ],
      "text/plain": [
       "   PassengerId  Survived  Pclass  \\\n",
       "0            1         0       3   \n",
       "1            2         1       1   \n",
       "2            3         1       3   \n",
       "3            4         1       1   \n",
       "4            5         0       3   \n",
       "\n",
       "                                                Name     Sex   Age  SibSp  \\\n",
       "0                            Braund, Mr. Owen Harris    male  22.0      1   \n",
       "1  Cumings, Mrs. John Bradley (Florence Briggs Th...  female  38.0      1   \n",
       "2                             Heikkinen, Miss. Laina  female  26.0      0   \n",
       "3       Futrelle, Mrs. Jacques Heath (Lily May Peel)  female  35.0      1   \n",
       "4                           Allen, Mr. William Henry    male  35.0      0   \n",
       "\n",
       "   Parch            Ticket     Fare Cabin Embarked  \n",
       "0      0         A/5 21171   7.2500   NaN        S  \n",
       "1      0          PC 17599  71.2833   C85        C  \n",
       "2      0  STON/O2. 3101282   7.9250   NaN        S  \n",
       "3      0            113803  53.1000  C123        S  \n",
       "4      0            373450   8.0500   NaN        S  "
      ]
     },
     "execution_count": 5,
     "metadata": {},
     "output_type": "execute_result"
    }
   ],
   "source": [
    "train_df.head()"
   ]
  },
  {
   "cell_type": "code",
   "execution_count": 6,
   "id": "bae531a8",
   "metadata": {
    "execution": {
     "iopub.execute_input": "2024-08-01T15:24:16.312903Z",
     "iopub.status.busy": "2024-08-01T15:24:16.312372Z",
     "iopub.status.idle": "2024-08-01T15:24:16.429022Z",
     "shell.execute_reply": "2024-08-01T15:24:16.427690Z"
    },
    "papermill": {
     "duration": 0.136177,
     "end_time": "2024-08-01T15:24:16.431565",
     "exception": false,
     "start_time": "2024-08-01T15:24:16.295388",
     "status": "completed"
    },
    "tags": []
   },
   "outputs": [
    {
     "data": {
      "text/html": [
       "<div>\n",
       "<style scoped>\n",
       "    .dataframe tbody tr th:only-of-type {\n",
       "        vertical-align: middle;\n",
       "    }\n",
       "\n",
       "    .dataframe tbody tr th {\n",
       "        vertical-align: top;\n",
       "    }\n",
       "\n",
       "    .dataframe thead th {\n",
       "        text-align: right;\n",
       "    }\n",
       "</style>\n",
       "<table border=\"1\" class=\"dataframe\">\n",
       "  <thead>\n",
       "    <tr style=\"text-align: right;\">\n",
       "      <th></th>\n",
       "      <th>PassengerId</th>\n",
       "      <th>Survived</th>\n",
       "      <th>Pclass</th>\n",
       "      <th>Age</th>\n",
       "      <th>SibSp</th>\n",
       "      <th>Parch</th>\n",
       "      <th>Fare</th>\n",
       "    </tr>\n",
       "  </thead>\n",
       "  <tbody>\n",
       "    <tr>\n",
       "      <th>count</th>\n",
       "      <td>891.000000</td>\n",
       "      <td>891.000000</td>\n",
       "      <td>891.000000</td>\n",
       "      <td>714.000000</td>\n",
       "      <td>891.000000</td>\n",
       "      <td>891.000000</td>\n",
       "      <td>891.000000</td>\n",
       "    </tr>\n",
       "    <tr>\n",
       "      <th>mean</th>\n",
       "      <td>446.000000</td>\n",
       "      <td>0.383838</td>\n",
       "      <td>2.308642</td>\n",
       "      <td>29.699118</td>\n",
       "      <td>0.523008</td>\n",
       "      <td>0.381594</td>\n",
       "      <td>32.204208</td>\n",
       "    </tr>\n",
       "    <tr>\n",
       "      <th>std</th>\n",
       "      <td>257.353842</td>\n",
       "      <td>0.486592</td>\n",
       "      <td>0.836071</td>\n",
       "      <td>14.526497</td>\n",
       "      <td>1.102743</td>\n",
       "      <td>0.806057</td>\n",
       "      <td>49.693429</td>\n",
       "    </tr>\n",
       "    <tr>\n",
       "      <th>min</th>\n",
       "      <td>1.000000</td>\n",
       "      <td>0.000000</td>\n",
       "      <td>1.000000</td>\n",
       "      <td>0.420000</td>\n",
       "      <td>0.000000</td>\n",
       "      <td>0.000000</td>\n",
       "      <td>0.000000</td>\n",
       "    </tr>\n",
       "    <tr>\n",
       "      <th>25%</th>\n",
       "      <td>223.500000</td>\n",
       "      <td>0.000000</td>\n",
       "      <td>2.000000</td>\n",
       "      <td>20.125000</td>\n",
       "      <td>0.000000</td>\n",
       "      <td>0.000000</td>\n",
       "      <td>7.910400</td>\n",
       "    </tr>\n",
       "    <tr>\n",
       "      <th>50%</th>\n",
       "      <td>446.000000</td>\n",
       "      <td>0.000000</td>\n",
       "      <td>3.000000</td>\n",
       "      <td>28.000000</td>\n",
       "      <td>0.000000</td>\n",
       "      <td>0.000000</td>\n",
       "      <td>14.454200</td>\n",
       "    </tr>\n",
       "    <tr>\n",
       "      <th>75%</th>\n",
       "      <td>668.500000</td>\n",
       "      <td>1.000000</td>\n",
       "      <td>3.000000</td>\n",
       "      <td>38.000000</td>\n",
       "      <td>1.000000</td>\n",
       "      <td>0.000000</td>\n",
       "      <td>31.000000</td>\n",
       "    </tr>\n",
       "    <tr>\n",
       "      <th>max</th>\n",
       "      <td>891.000000</td>\n",
       "      <td>1.000000</td>\n",
       "      <td>3.000000</td>\n",
       "      <td>80.000000</td>\n",
       "      <td>8.000000</td>\n",
       "      <td>6.000000</td>\n",
       "      <td>512.329200</td>\n",
       "    </tr>\n",
       "  </tbody>\n",
       "</table>\n",
       "</div>"
      ],
      "text/plain": [
       "       PassengerId    Survived      Pclass         Age       SibSp  \\\n",
       "count   891.000000  891.000000  891.000000  714.000000  891.000000   \n",
       "mean    446.000000    0.383838    2.308642   29.699118    0.523008   \n",
       "std     257.353842    0.486592    0.836071   14.526497    1.102743   \n",
       "min       1.000000    0.000000    1.000000    0.420000    0.000000   \n",
       "25%     223.500000    0.000000    2.000000   20.125000    0.000000   \n",
       "50%     446.000000    0.000000    3.000000   28.000000    0.000000   \n",
       "75%     668.500000    1.000000    3.000000   38.000000    1.000000   \n",
       "max     891.000000    1.000000    3.000000   80.000000    8.000000   \n",
       "\n",
       "            Parch        Fare  \n",
       "count  891.000000  891.000000  \n",
       "mean     0.381594   32.204208  \n",
       "std      0.806057   49.693429  \n",
       "min      0.000000    0.000000  \n",
       "25%      0.000000    7.910400  \n",
       "50%      0.000000   14.454200  \n",
       "75%      0.000000   31.000000  \n",
       "max      6.000000  512.329200  "
      ]
     },
     "execution_count": 6,
     "metadata": {},
     "output_type": "execute_result"
    }
   ],
   "source": [
    "train_df.describe()"
   ]
  },
  {
   "cell_type": "markdown",
   "id": "a62fed9a",
   "metadata": {
    "papermill": {
     "duration": 0.016136,
     "end_time": "2024-08-01T15:24:16.463994",
     "exception": false,
     "start_time": "2024-08-01T15:24:16.447858",
     "status": "completed"
    },
    "tags": []
   },
   "source": [
    "<a id = \"2\"></a><br>\n",
    "# Variable description.\n",
    "1. PassengerId: unique id number to each passenger\n",
    "2. Survived : passenger survivr(1) or died(0)\n",
    "3. Pclass :passenger class\n",
    "4. Name\n",
    "5. Sex \n",
    "6. Age\n",
    "7. SibSp: number of siblings/spouses \n",
    "8. Parch :number of parents or clildren\n",
    "9. Ticket\n",
    "10. Fare: amount money for ticket\n",
    "11. Cabin\n",
    "12. Embarked : port where(C=Cherbourg, Q= Queenstown, S= Southampton)"
   ]
  },
  {
   "cell_type": "code",
   "execution_count": 7,
   "id": "ecf0c7b3",
   "metadata": {
    "execution": {
     "iopub.execute_input": "2024-08-01T15:24:16.497972Z",
     "iopub.status.busy": "2024-08-01T15:24:16.497534Z",
     "iopub.status.idle": "2024-08-01T15:24:16.522783Z",
     "shell.execute_reply": "2024-08-01T15:24:16.521468Z"
    },
    "papermill": {
     "duration": 0.045894,
     "end_time": "2024-08-01T15:24:16.526075",
     "exception": false,
     "start_time": "2024-08-01T15:24:16.480181",
     "status": "completed"
    },
    "tags": []
   },
   "outputs": [
    {
     "name": "stdout",
     "output_type": "stream",
     "text": [
      "<class 'pandas.core.frame.DataFrame'>\n",
      "RangeIndex: 891 entries, 0 to 890\n",
      "Data columns (total 12 columns):\n",
      " #   Column       Non-Null Count  Dtype  \n",
      "---  ------       --------------  -----  \n",
      " 0   PassengerId  891 non-null    int64  \n",
      " 1   Survived     891 non-null    int64  \n",
      " 2   Pclass       891 non-null    int64  \n",
      " 3   Name         891 non-null    object \n",
      " 4   Sex          891 non-null    object \n",
      " 5   Age          714 non-null    float64\n",
      " 6   SibSp        891 non-null    int64  \n",
      " 7   Parch        891 non-null    int64  \n",
      " 8   Ticket       891 non-null    object \n",
      " 9   Fare         891 non-null    float64\n",
      " 10  Cabin        204 non-null    object \n",
      " 11  Embarked     889 non-null    object \n",
      "dtypes: float64(2), int64(5), object(5)\n",
      "memory usage: 83.7+ KB\n"
     ]
    }
   ],
   "source": [
    "train_df.info()"
   ]
  },
  {
   "cell_type": "markdown",
   "id": "d924500b",
   "metadata": {
    "papermill": {
     "duration": 0.015753,
     "end_time": "2024-08-01T15:24:16.558010",
     "exception": false,
     "start_time": "2024-08-01T15:24:16.542257",
     "status": "completed"
    },
    "tags": []
   },
   "source": [
    "float64(2): Fare,Age\n",
    "\n",
    "int64(5): PassengerId,Survived,Pclass,SibSp,Parch\n",
    "\n",
    "object(5): Name,Sex,Ticket,Cabin,Embarked."
   ]
  },
  {
   "cell_type": "markdown",
   "id": "c5e77d8a",
   "metadata": {
    "papermill": {
     "duration": 0.015607,
     "end_time": "2024-08-01T15:24:16.589475",
     "exception": false,
     "start_time": "2024-08-01T15:24:16.573868",
     "status": "completed"
    },
    "tags": []
   },
   "source": [
    "<a id = \"3\"></a><br>\n",
    "# Univariate Variable Analysis\n",
    "Categorical or Numerical Variable Analysis\n",
    "\n",
    "Categorical :Seçenekli demek örnek Survived,sex,pclass,embarked,cabin,name,ticket,sibsp,parch.\n",
    "\n",
    "Numerical: age,passengerıd and fare."
   ]
  },
  {
   "cell_type": "code",
   "execution_count": 8,
   "id": "6a4c587d",
   "metadata": {
    "execution": {
     "iopub.execute_input": "2024-08-01T15:24:16.624128Z",
     "iopub.status.busy": "2024-08-01T15:24:16.623742Z",
     "iopub.status.idle": "2024-08-01T15:24:16.632092Z",
     "shell.execute_reply": "2024-08-01T15:24:16.630453Z"
    },
    "papermill": {
     "duration": 0.029067,
     "end_time": "2024-08-01T15:24:16.634795",
     "exception": false,
     "start_time": "2024-08-01T15:24:16.605728",
     "status": "completed"
    },
    "tags": []
   },
   "outputs": [],
   "source": [
    "def bar_plot(variable):\n",
    "    # Input: variable, e.g., \"Sex\"\n",
    "    # Output: bar plot & value count\n",
    "    # Get feature\n",
    "    var = train_df[variable]\n",
    "    # Count number of categorical variable (value/sample)\n",
    "    varValue = var.value_counts()\n",
    "    # Visualize\n",
    "    plt.figure(figsize=(9, 3))\n",
    "    plt.bar(varValue.index, varValue)\n",
    "    plt.xticks(varValue.index, varValue.index)  # Corrected this line\n",
    "    plt.ylabel(\"Frequency\")\n",
    "    plt.title(variable)\n",
    "    plt.show()\n",
    "    print(\"{}: \\n{}\".format(variable, varValue))\n",
    "\n"
   ]
  },
  {
   "cell_type": "code",
   "execution_count": 9,
   "id": "70ca8f3e",
   "metadata": {
    "execution": {
     "iopub.execute_input": "2024-08-01T15:24:16.669465Z",
     "iopub.status.busy": "2024-08-01T15:24:16.669068Z",
     "iopub.status.idle": "2024-08-01T15:24:18.429096Z",
     "shell.execute_reply": "2024-08-01T15:24:18.427505Z"
    },
    "papermill": {
     "duration": 1.780992,
     "end_time": "2024-08-01T15:24:18.432312",
     "exception": false,
     "start_time": "2024-08-01T15:24:16.651320",
     "status": "completed"
    },
    "tags": []
   },
   "outputs": [
    {
     "data": {
      "image/png": "[encoded data removed]",
      "text/plain": [
       "<Figure size 900x300 with 1 Axes>"
      ]
     },
     "metadata": {},
     "output_type": "display_data"
    },
    {
     "name": "stdout",
     "output_type": "stream",
     "text": [
      "Survived: \n",
      "Survived\n",
      "0    549\n",
      "1    342\n",
      "Name: count, dtype: int64\n"
     ]
    },
    {
     "data": {
      "image/png": "[encoded data removed]",
      "text/plain": [
       "<Figure size 900x300 with 1 Axes>"
      ]
     },
     "metadata": {},
     "output_type": "display_data"
    },
    {
     "name": "stdout",
     "output_type": "stream",
     "text": [
      "Sex: \n",
      "Sex\n",
      "male      577\n",
      "female    314\n",
      "Name: count, dtype: int64\n"
     ]
    },
    {
     "data": {
      "image/png": "[encoded data removed]",
      "text/plain": [
       "<Figure size 900x300 with 1 Axes>"
      ]
     },
     "metadata": {},
     "output_type": "display_data"
    },
    {
     "name": "stdout",
     "output_type": "stream",
     "text": [
      "Pclass: \n",
      "Pclass\n",
      "3    491\n",
      "1    216\n",
      "2    184\n",
      "Name: count, dtype: int64\n"
     ]
    },
    {
     "data": {
      "image/png": "[encoded data removed]",
      "text/plain": [
       "<Figure size 900x300 with 1 Axes>"
      ]
     },
     "metadata": {},
     "output_type": "display_data"
    },
    {
     "name": "stdout",
     "output_type": "stream",
     "text": [
      "Embarked: \n",
      "Embarked\n",
      "S    644\n",
      "C    168\n",
      "Q     77\n",
      "Name: count, dtype: int64\n"
     ]
    },
    {
     "data": {
      "image/png": "[encoded data removed]",
      "text/plain": [
       "<Figure size 900x300 with 1 Axes>"
      ]
     },
     "metadata": {},
     "output_type": "display_data"
    },
    {
     "name": "stdout",
     "output_type": "stream",
     "text": [
      "SibSp: \n",
      "SibSp\n",
      "0    608\n",
      "1    209\n",
      "2     28\n",
      "4     18\n",
      "3     16\n",
      "8      7\n",
      "5      5\n",
      "Name: count, dtype: int64\n"
     ]
    },
    {
     "data": {
      "image/png": "[encoded data removed]",
      "text/plain": [
       "<Figure size 900x300 with 1 Axes>"
      ]
     },
     "metadata": {},
     "output_type": "display_data"
    },
    {
     "name": "stdout",
     "output_type": "stream",
     "text": [
      "Parch: \n",
      "Parch\n",
      "0    678\n",
      "1    118\n",
      "2     80\n",
      "5      5\n",
      "3      5\n",
      "4      4\n",
      "6      1\n",
      "Name: count, dtype: int64\n"
     ]
    }
   ],
   "source": [
    "# Define the categories\n",
    "category1 = [\"Survived\", \"Sex\", \"Pclass\", \"Embarked\", \"SibSp\", \"Parch\"]\n",
    "\n",
    "# Plot the bar plots for each category\n",
    "for c in category1:\n",
    "    bar_plot(c)"
   ]
  },
  {
   "cell_type": "code",
   "execution_count": 10,
   "id": "eafc00f6",
   "metadata": {
    "execution": {
     "iopub.execute_input": "2024-08-01T15:24:18.474504Z",
     "iopub.status.busy": "2024-08-01T15:24:18.473965Z",
     "iopub.status.idle": "2024-08-01T15:24:18.490085Z",
     "shell.execute_reply": "2024-08-01T15:24:18.488455Z"
    },
    "papermill": {
     "duration": 0.040238,
     "end_time": "2024-08-01T15:24:18.492759",
     "exception": false,
     "start_time": "2024-08-01T15:24:18.452521",
     "status": "completed"
    },
    "tags": []
   },
   "outputs": [
    {
     "name": "stdout",
     "output_type": "stream",
     "text": [
      "Cabin\n",
      "B96 B98        4\n",
      "G6             4\n",
      "C23 C25 C27    4\n",
      "C22 C26        3\n",
      "F33            3\n",
      "              ..\n",
      "E34            1\n",
      "C7             1\n",
      "C54            1\n",
      "E36            1\n",
      "C148           1\n",
      "Name: count, Length: 147, dtype: int64 \n",
      "\n",
      "Name\n",
      "Braund, Mr. Owen Harris                     1\n",
      "Boulos, Mr. Hanna                           1\n",
      "Frolicher-Stehli, Mr. Maxmillian            1\n",
      "Gilinski, Mr. Eliezer                       1\n",
      "Murdlin, Mr. Joseph                         1\n",
      "                                           ..\n",
      "Kelly, Miss. Anna Katherine \"Annie Kate\"    1\n",
      "McCoy, Mr. Bernard                          1\n",
      "Johnson, Mr. William Cahoone Jr             1\n",
      "Keane, Miss. Nora A                         1\n",
      "Dooley, Mr. Patrick                         1\n",
      "Name: count, Length: 891, dtype: int64 \n",
      "\n",
      "Ticket\n",
      "347082      7\n",
      "CA. 2343    7\n",
      "1601        7\n",
      "3101295     6\n",
      "CA 2144     6\n",
      "           ..\n",
      "9234        1\n",
      "19988       1\n",
      "2693        1\n",
      "PC 17612    1\n",
      "370376      1\n",
      "Name: count, Length: 681, dtype: int64 \n",
      "\n"
     ]
    }
   ],
   "source": [
    "category2 = [\"Cabin\", \"Name\" , \"Ticket\"]\n",
    "for c in category2:\n",
    "    print(\"{} \\n\".format(train_df[c].value_counts()))\n",
    "    "
   ]
  },
  {
   "cell_type": "markdown",
   "id": "b6a8c0de",
   "metadata": {
    "papermill": {
     "duration": 0.018822,
     "end_time": "2024-08-01T15:24:18.530333",
     "exception": false,
     "start_time": "2024-08-01T15:24:18.511511",
     "status": "completed"
    },
    "tags": []
   },
   "source": [
    "# NUMERİCAL"
   ]
  },
  {
   "cell_type": "markdown",
   "id": "01c8d903",
   "metadata": {
    "papermill": {
     "duration": 0.018506,
     "end_time": "2024-08-01T15:24:18.567938",
     "exception": false,
     "start_time": "2024-08-01T15:24:18.549432",
     "status": "completed"
    },
    "tags": []
   },
   "source": [
    "histogram bizim veri setimizdeki herhangi bir topluluğun gösterimidir."
   ]
  },
  {
   "cell_type": "code",
   "execution_count": 11,
   "id": "960ac31a",
   "metadata": {
    "execution": {
     "iopub.execute_input": "2024-08-01T15:24:18.608170Z",
     "iopub.status.busy": "2024-08-01T15:24:18.607010Z",
     "iopub.status.idle": "2024-08-01T15:24:18.614157Z",
     "shell.execute_reply": "2024-08-01T15:24:18.612917Z"
    },
    "papermill": {
     "duration": 0.030213,
     "end_time": "2024-08-01T15:24:18.617089",
     "exception": false,
     "start_time": "2024-08-01T15:24:18.586876",
     "status": "completed"
    },
    "tags": []
   },
   "outputs": [],
   "source": [
    "def plot_hist(variable):\n",
    "    plt.figure(figsize = (9,3))\n",
    "    plt.hist(train_df[variable], bins = 50)\n",
    "    plt.xlabel(variable)\n",
    "    plt.ylabel(\"Frequency\")\n",
    "    plt.title(\"{} distribution with hist\".format(variable))\n",
    "    plt.show()"
   ]
  },
  {
   "cell_type": "markdown",
   "id": "2dbbe359",
   "metadata": {
    "papermill": {
     "duration": 0.018767,
     "end_time": "2024-08-01T15:24:18.655782",
     "exception": false,
     "start_time": "2024-08-01T15:24:18.637015",
     "status": "completed"
    },
    "tags": []
   },
   "source": [
    "histogram çizimi için fonksiyon ayarlamalarını yaptık."
   ]
  },
  {
   "cell_type": "code",
   "execution_count": 12,
   "id": "fa61c93e",
   "metadata": {
    "execution": {
     "iopub.execute_input": "2024-08-01T15:24:18.695516Z",
     "iopub.status.busy": "2024-08-01T15:24:18.695092Z",
     "iopub.status.idle": "2024-08-01T15:24:19.924642Z",
     "shell.execute_reply": "2024-08-01T15:24:19.923484Z"
    },
    "papermill": {
     "duration": 1.252317,
     "end_time": "2024-08-01T15:24:19.927139",
     "exception": false,
     "start_time": "2024-08-01T15:24:18.674822",
     "status": "completed"
    },
    "tags": []
   },
   "outputs": [
    {
     "data": {
      "image/png": "[encoded data removed]",
      "text/plain": [
       "<Figure size 900x300 with 1 Axes>"
      ]
     },
     "metadata": {},
     "output_type": "display_data"
    },
    {
     "data": {
      "image/png": "[encoded data removed]",
      "text/plain": [
       "<Figure size 900x300 with 1 Axes>"
      ]
     },
     "metadata": {},
     "output_type": "display_data"
    },
    {
     "data": {
      "image/png": "[encoded data removed]",
      "text/plain": [
       "<Figure size 900x300 with 1 Axes>"
      ]
     },
     "metadata": {},
     "output_type": "display_data"
    }
   ],
   "source": [
    "numericVar = [\"Fare\",\"Age\",\"PassengerId\"]\n",
    "for n in numericVar :\n",
    "    plot_hist(n)"
   ]
  },
  {
   "cell_type": "markdown",
   "id": "0a7fcb68",
   "metadata": {
    "papermill": {
     "duration": 0.019987,
     "end_time": "2024-08-01T15:24:19.967582",
     "exception": false,
     "start_time": "2024-08-01T15:24:19.947595",
     "status": "completed"
    },
    "tags": []
   },
   "source": [
    "numeric değerlerimizi verdik yani veri steimizdeki column ları ve sonucunda bize bunların sayısal değerlerinden oluşan grafik verdi."
   ]
  },
  {
   "cell_type": "markdown",
   "id": "18978011",
   "metadata": {
    "papermill": {
     "duration": 0.019528,
     "end_time": "2024-08-01T15:24:20.007100",
     "exception": false,
     "start_time": "2024-08-01T15:24:19.987572",
     "status": "completed"
    },
    "tags": []
   },
   "source": [
    "<a id = \"4\"></a><br>\n",
    " # Basic Data Analysis\n",
    "pclass-survived\n",
    "\n",
    "sex-survived\n",
    "\n",
    "sibsp-survived\n",
    "\n",
    "parch-survived"
   ]
  },
  {
   "cell_type": "code",
   "execution_count": 13,
   "id": "014020cc",
   "metadata": {
    "execution": {
     "iopub.execute_input": "2024-08-01T15:24:20.109402Z",
     "iopub.status.busy": "2024-08-01T15:24:20.108963Z",
     "iopub.status.idle": "2024-08-01T15:24:20.125714Z",
     "shell.execute_reply": "2024-08-01T15:24:20.124487Z"
    },
    "papermill": {
     "duration": 0.101059,
     "end_time": "2024-08-01T15:24:20.128121",
     "exception": false,
     "start_time": "2024-08-01T15:24:20.027062",
     "status": "completed"
    },
    "tags": []
   },
   "outputs": [
    {
     "data": {
      "text/html": [
       "<div>\n",
       "<style scoped>\n",
       "    .dataframe tbody tr th:only-of-type {\n",
       "        vertical-align: middle;\n",
       "    }\n",
       "\n",
       "    .dataframe tbody tr th {\n",
       "        vertical-align: top;\n",
       "    }\n",
       "\n",
       "    .dataframe thead th {\n",
       "        text-align: right;\n",
       "    }\n",
       "</style>\n",
       "<table border=\"1\" class=\"dataframe\">\n",
       "  <thead>\n",
       "    <tr style=\"text-align: right;\">\n",
       "      <th></th>\n",
       "      <th>Pclass</th>\n",
       "      <th>Survived</th>\n",
       "    </tr>\n",
       "  </thead>\n",
       "  <tbody>\n",
       "    <tr>\n",
       "      <th>0</th>\n",
       "      <td>1</td>\n",
       "      <td>0.629630</td>\n",
       "    </tr>\n",
       "    <tr>\n",
       "      <th>1</th>\n",
       "      <td>2</td>\n",
       "      <td>0.472826</td>\n",
       "    </tr>\n",
       "    <tr>\n",
       "      <th>2</th>\n",
       "      <td>3</td>\n",
       "      <td>0.242363</td>\n",
       "    </tr>\n",
       "  </tbody>\n",
       "</table>\n",
       "</div>"
      ],
      "text/plain": [
       "   Pclass  Survived\n",
       "0       1  0.629630\n",
       "1       2  0.472826\n",
       "2       3  0.242363"
      ]
     },
     "execution_count": 13,
     "metadata": {},
     "output_type": "execute_result"
    }
   ],
   "source": [
    "train_df[[\"Pclass\",\"Survived\"]].groupby([\"Pclass\"], as_index = False).mean()"
   ]
  },
  {
   "cell_type": "markdown",
   "id": "f9b5a17e",
   "metadata": {
    "papermill": {
     "duration": 0.0275,
     "end_time": "2024-08-01T15:24:20.180051",
     "exception": false,
     "start_time": "2024-08-01T15:24:20.152551",
     "status": "completed"
    },
    "tags": []
   },
   "source": [
    "pclassa göre survive oranlarının ortalamasını yazdırdık . ama sıralı değil aşarıda survive feature nu azalan olarak sıralama kodu;"
   ]
  },
  {
   "cell_type": "code",
   "execution_count": 14,
   "id": "6216e473",
   "metadata": {
    "execution": {
     "iopub.execute_input": "2024-08-01T15:24:20.229051Z",
     "iopub.status.busy": "2024-08-01T15:24:20.227759Z",
     "iopub.status.idle": "2024-08-01T15:24:20.244710Z",
     "shell.execute_reply": "2024-08-01T15:24:20.243411Z"
    },
    "papermill": {
     "duration": 0.045398,
     "end_time": "2024-08-01T15:24:20.247381",
     "exception": false,
     "start_time": "2024-08-01T15:24:20.201983",
     "status": "completed"
    },
    "tags": []
   },
   "outputs": [
    {
     "data": {
      "text/html": [
       "<div>\n",
       "<style scoped>\n",
       "    .dataframe tbody tr th:only-of-type {\n",
       "        vertical-align: middle;\n",
       "    }\n",
       "\n",
       "    .dataframe tbody tr th {\n",
       "        vertical-align: top;\n",
       "    }\n",
       "\n",
       "    .dataframe thead th {\n",
       "        text-align: right;\n",
       "    }\n",
       "</style>\n",
       "<table border=\"1\" class=\"dataframe\">\n",
       "  <thead>\n",
       "    <tr style=\"text-align: right;\">\n",
       "      <th></th>\n",
       "      <th>Pclass</th>\n",
       "      <th>Survived</th>\n",
       "    </tr>\n",
       "  </thead>\n",
       "  <tbody>\n",
       "    <tr>\n",
       "      <th>0</th>\n",
       "      <td>1</td>\n",
       "      <td>0.629630</td>\n",
       "    </tr>\n",
       "    <tr>\n",
       "      <th>1</th>\n",
       "      <td>2</td>\n",
       "      <td>0.472826</td>\n",
       "    </tr>\n",
       "    <tr>\n",
       "      <th>2</th>\n",
       "      <td>3</td>\n",
       "      <td>0.242363</td>\n",
       "    </tr>\n",
       "  </tbody>\n",
       "</table>\n",
       "</div>"
      ],
      "text/plain": [
       "   Pclass  Survived\n",
       "0       1  0.629630\n",
       "1       2  0.472826\n",
       "2       3  0.242363"
      ]
     },
     "execution_count": 14,
     "metadata": {},
     "output_type": "execute_result"
    }
   ],
   "source": [
    "train_df[[\"Pclass\",\"Survived\"]].groupby([\"Pclass\"], as_index = False).mean().sort_values(by=\"Survived\",ascending = False)"
   ]
  },
  {
   "cell_type": "markdown",
   "id": "b0e3b205",
   "metadata": {
    "papermill": {
     "duration": 0.020848,
     "end_time": "2024-08-01T15:24:20.289895",
     "exception": false,
     "start_time": "2024-08-01T15:24:20.269047",
     "status": "completed"
    },
    "tags": []
   },
   "source": [
    "1. sınıf insanların hayatta kalma oranı daha fazla"
   ]
  },
  {
   "cell_type": "code",
   "execution_count": 15,
   "id": "4fb41816",
   "metadata": {
    "execution": {
     "iopub.execute_input": "2024-08-01T15:24:20.334223Z",
     "iopub.status.busy": "2024-08-01T15:24:20.333345Z",
     "iopub.status.idle": "2024-08-01T15:24:20.350733Z",
     "shell.execute_reply": "2024-08-01T15:24:20.349496Z"
    },
    "papermill": {
     "duration": 0.043001,
     "end_time": "2024-08-01T15:24:20.353977",
     "exception": false,
     "start_time": "2024-08-01T15:24:20.310976",
     "status": "completed"
    },
    "tags": []
   },
   "outputs": [
    {
     "data": {
      "text/html": [
       "<div>\n",
       "<style scoped>\n",
       "    .dataframe tbody tr th:only-of-type {\n",
       "        vertical-align: middle;\n",
       "    }\n",
       "\n",
       "    .dataframe tbody tr th {\n",
       "        vertical-align: top;\n",
       "    }\n",
       "\n",
       "    .dataframe thead th {\n",
       "        text-align: right;\n",
       "    }\n",
       "</style>\n",
       "<table border=\"1\" class=\"dataframe\">\n",
       "  <thead>\n",
       "    <tr style=\"text-align: right;\">\n",
       "      <th></th>\n",
       "      <th>Sex</th>\n",
       "      <th>Survived</th>\n",
       "    </tr>\n",
       "  </thead>\n",
       "  <tbody>\n",
       "    <tr>\n",
       "      <th>0</th>\n",
       "      <td>female</td>\n",
       "      <td>0.742038</td>\n",
       "    </tr>\n",
       "    <tr>\n",
       "      <th>1</th>\n",
       "      <td>male</td>\n",
       "      <td>0.188908</td>\n",
       "    </tr>\n",
       "  </tbody>\n",
       "</table>\n",
       "</div>"
      ],
      "text/plain": [
       "      Sex  Survived\n",
       "0  female  0.742038\n",
       "1    male  0.188908"
      ]
     },
     "execution_count": 15,
     "metadata": {},
     "output_type": "execute_result"
    }
   ],
   "source": [
    "train_df[[\"Sex\",\"Survived\"]].groupby([\"Sex\"], as_index = False).mean().sort_values(by=\"Survived\",ascending = False)"
   ]
  },
  {
   "cell_type": "markdown",
   "id": "5d41ac6a",
   "metadata": {
    "papermill": {
     "duration": 0.023992,
     "end_time": "2024-08-01T15:24:20.408736",
     "exception": false,
     "start_time": "2024-08-01T15:24:20.384744",
     "status": "completed"
    },
    "tags": []
   },
   "source": [
    "kadın hayatta kalma oranı daha yüksek olmuş"
   ]
  },
  {
   "cell_type": "code",
   "execution_count": 16,
   "id": "cf24b143",
   "metadata": {
    "execution": {
     "iopub.execute_input": "2024-08-01T15:24:20.453869Z",
     "iopub.status.busy": "2024-08-01T15:24:20.453303Z",
     "iopub.status.idle": "2024-08-01T15:24:20.474123Z",
     "shell.execute_reply": "2024-08-01T15:24:20.472797Z"
    },
    "papermill": {
     "duration": 0.046194,
     "end_time": "2024-08-01T15:24:20.476741",
     "exception": false,
     "start_time": "2024-08-01T15:24:20.430547",
     "status": "completed"
    },
    "tags": []
   },
   "outputs": [
    {
     "data": {
      "text/html": [
       "<div>\n",
       "<style scoped>\n",
       "    .dataframe tbody tr th:only-of-type {\n",
       "        vertical-align: middle;\n",
       "    }\n",
       "\n",
       "    .dataframe tbody tr th {\n",
       "        vertical-align: top;\n",
       "    }\n",
       "\n",
       "    .dataframe thead th {\n",
       "        text-align: right;\n",
       "    }\n",
       "</style>\n",
       "<table border=\"1\" class=\"dataframe\">\n",
       "  <thead>\n",
       "    <tr style=\"text-align: right;\">\n",
       "      <th></th>\n",
       "      <th>SibSp</th>\n",
       "      <th>Survived</th>\n",
       "    </tr>\n",
       "  </thead>\n",
       "  <tbody>\n",
       "    <tr>\n",
       "      <th>1</th>\n",
       "      <td>1</td>\n",
       "      <td>0.535885</td>\n",
       "    </tr>\n",
       "    <tr>\n",
       "      <th>2</th>\n",
       "      <td>2</td>\n",
       "      <td>0.464286</td>\n",
       "    </tr>\n",
       "    <tr>\n",
       "      <th>0</th>\n",
       "      <td>0</td>\n",
       "      <td>0.345395</td>\n",
       "    </tr>\n",
       "    <tr>\n",
       "      <th>3</th>\n",
       "      <td>3</td>\n",
       "      <td>0.250000</td>\n",
       "    </tr>\n",
       "    <tr>\n",
       "      <th>4</th>\n",
       "      <td>4</td>\n",
       "      <td>0.166667</td>\n",
       "    </tr>\n",
       "    <tr>\n",
       "      <th>5</th>\n",
       "      <td>5</td>\n",
       "      <td>0.000000</td>\n",
       "    </tr>\n",
       "    <tr>\n",
       "      <th>6</th>\n",
       "      <td>8</td>\n",
       "      <td>0.000000</td>\n",
       "    </tr>\n",
       "  </tbody>\n",
       "</table>\n",
       "</div>"
      ],
      "text/plain": [
       "   SibSp  Survived\n",
       "1      1  0.535885\n",
       "2      2  0.464286\n",
       "0      0  0.345395\n",
       "3      3  0.250000\n",
       "4      4  0.166667\n",
       "5      5  0.000000\n",
       "6      8  0.000000"
      ]
     },
     "execution_count": 16,
     "metadata": {},
     "output_type": "execute_result"
    }
   ],
   "source": [
    "train_df[[\"SibSp\",\"Survived\"]].groupby([\"SibSp\"], as_index = False).mean().sort_values(by=\"Survived\",ascending = False)"
   ]
  },
  {
   "cell_type": "code",
   "execution_count": 17,
   "id": "7256bf29",
   "metadata": {
    "execution": {
     "iopub.execute_input": "2024-08-01T15:24:20.522728Z",
     "iopub.status.busy": "2024-08-01T15:24:20.521689Z",
     "iopub.status.idle": "2024-08-01T15:24:20.540078Z",
     "shell.execute_reply": "2024-08-01T15:24:20.538856Z"
    },
    "papermill": {
     "duration": 0.043908,
     "end_time": "2024-08-01T15:24:20.542490",
     "exception": false,
     "start_time": "2024-08-01T15:24:20.498582",
     "status": "completed"
    },
    "tags": []
   },
   "outputs": [
    {
     "data": {
      "text/html": [
       "<div>\n",
       "<style scoped>\n",
       "    .dataframe tbody tr th:only-of-type {\n",
       "        vertical-align: middle;\n",
       "    }\n",
       "\n",
       "    .dataframe tbody tr th {\n",
       "        vertical-align: top;\n",
       "    }\n",
       "\n",
       "    .dataframe thead th {\n",
       "        text-align: right;\n",
       "    }\n",
       "</style>\n",
       "<table border=\"1\" class=\"dataframe\">\n",
       "  <thead>\n",
       "    <tr style=\"text-align: right;\">\n",
       "      <th></th>\n",
       "      <th>Parch</th>\n",
       "      <th>Survived</th>\n",
       "    </tr>\n",
       "  </thead>\n",
       "  <tbody>\n",
       "    <tr>\n",
       "      <th>3</th>\n",
       "      <td>3</td>\n",
       "      <td>0.600000</td>\n",
       "    </tr>\n",
       "    <tr>\n",
       "      <th>1</th>\n",
       "      <td>1</td>\n",
       "      <td>0.550847</td>\n",
       "    </tr>\n",
       "    <tr>\n",
       "      <th>2</th>\n",
       "      <td>2</td>\n",
       "      <td>0.500000</td>\n",
       "    </tr>\n",
       "    <tr>\n",
       "      <th>0</th>\n",
       "      <td>0</td>\n",
       "      <td>0.343658</td>\n",
       "    </tr>\n",
       "    <tr>\n",
       "      <th>5</th>\n",
       "      <td>5</td>\n",
       "      <td>0.200000</td>\n",
       "    </tr>\n",
       "    <tr>\n",
       "      <th>4</th>\n",
       "      <td>4</td>\n",
       "      <td>0.000000</td>\n",
       "    </tr>\n",
       "    <tr>\n",
       "      <th>6</th>\n",
       "      <td>6</td>\n",
       "      <td>0.000000</td>\n",
       "    </tr>\n",
       "  </tbody>\n",
       "</table>\n",
       "</div>"
      ],
      "text/plain": [
       "   Parch  Survived\n",
       "3      3  0.600000\n",
       "1      1  0.550847\n",
       "2      2  0.500000\n",
       "0      0  0.343658\n",
       "5      5  0.200000\n",
       "4      4  0.000000\n",
       "6      6  0.000000"
      ]
     },
     "execution_count": 17,
     "metadata": {},
     "output_type": "execute_result"
    }
   ],
   "source": [
    "train_df[[\"Parch\",\"Survived\"]].groupby([\"Parch\"], as_index = False).mean().sort_values(by=\"Survived\",ascending = False)"
   ]
  },
  {
   "cell_type": "markdown",
   "id": "25f0ae24",
   "metadata": {
    "papermill": {
     "duration": 0.02765,
     "end_time": "2024-08-01T15:24:20.591933",
     "exception": false,
     "start_time": "2024-08-01T15:24:20.564283",
     "status": "completed"
    },
    "tags": []
   },
   "source": [
    "sayı 3 ten fazla ise hayatta kalma oranı azalmıış"
   ]
  },
  {
   "cell_type": "markdown",
   "id": "ecdb02ca",
   "metadata": {
    "papermill": {
     "duration": 0.025213,
     "end_time": "2024-08-01T15:24:20.640651",
     "exception": false,
     "start_time": "2024-08-01T15:24:20.615438",
     "status": "completed"
    },
    "tags": []
   },
   "source": [
    "<a id = \"5\"></a><br>\n",
    "# Outlier Ditection"
   ]
  },
  {
   "cell_type": "markdown",
   "id": "aef6059e",
   "metadata": {
    "papermill": {
     "duration": 0.021195,
     "end_time": "2024-08-01T15:24:20.686677",
     "exception": false,
     "start_time": "2024-08-01T15:24:20.665482",
     "status": "completed"
    },
    "tags": []
   },
   "source": [
    "outlier elimizde olan elde edilen veriyi bozan veri demektir.İstatiksel anlamda karar vermekte zorlandırır."
   ]
  },
  {
   "cell_type": "code",
   "execution_count": 18,
   "id": "4cc9c377",
   "metadata": {
    "execution": {
     "iopub.execute_input": "2024-08-01T15:24:20.732186Z",
     "iopub.status.busy": "2024-08-01T15:24:20.731775Z",
     "iopub.status.idle": "2024-08-01T15:24:20.740311Z",
     "shell.execute_reply": "2024-08-01T15:24:20.739164Z"
    },
    "papermill": {
     "duration": 0.03509,
     "end_time": "2024-08-01T15:24:20.743392",
     "exception": false,
     "start_time": "2024-08-01T15:24:20.708302",
     "status": "completed"
    },
    "tags": []
   },
   "outputs": [],
   "source": [
    "def detect_outliers(df,features):\n",
    " outlier_indices = []\n",
    " for c in features:\n",
    "    #1st quartile\n",
    "    Q1 = np.percentile(df[c],25)\n",
    "    #3rd quertile\n",
    "    Q3 = np.percentile(df[c],75)\n",
    "    #IOR\n",
    "    IOR = Q3-Q1\n",
    "    #Outlier step\n",
    "    outlier_step = IOR *1.5\n",
    "    #detect outlier and their indeces\n",
    "    outlier_list_col = df[(df[c] < Q1 - outlier_step )|( df[c] > Q3 + outlier_step)].index\n",
    "    #store indeces\n",
    "    outlier_indices.extend(outlier_list_col)\n",
    " outlier_indices = Counter(outlier_indices)\n",
    " multiple_outliers = list(i for i,v in outlier_indices.items() if v > 2)\n",
    "    \n",
    " return multiple_outliers"
   ]
  },
  {
   "cell_type": "markdown",
   "id": "4253f270",
   "metadata": {
    "papermill": {
     "duration": 0.021053,
     "end_time": "2024-08-01T15:24:20.789400",
     "exception": false,
     "start_time": "2024-08-01T15:24:20.768347",
     "status": "completed"
    },
    "tags": []
   },
   "source": [
    "sayısal featurelar için outlier bulunması ve adetinin bulunması."
   ]
  },
  {
   "cell_type": "code",
   "execution_count": 19,
   "id": "dfc79080",
   "metadata": {
    "execution": {
     "iopub.execute_input": "2024-08-01T15:24:20.834840Z",
     "iopub.status.busy": "2024-08-01T15:24:20.833770Z",
     "iopub.status.idle": "2024-08-01T15:24:20.867816Z",
     "shell.execute_reply": "2024-08-01T15:24:20.866619Z"
    },
    "papermill": {
     "duration": 0.059708,
     "end_time": "2024-08-01T15:24:20.870588",
     "exception": false,
     "start_time": "2024-08-01T15:24:20.810880",
     "status": "completed"
    },
    "tags": []
   },
   "outputs": [
    {
     "data": {
      "text/html": [
       "<div>\n",
       "<style scoped>\n",
       "    .dataframe tbody tr th:only-of-type {\n",
       "        vertical-align: middle;\n",
       "    }\n",
       "\n",
       "    .dataframe tbody tr th {\n",
       "        vertical-align: top;\n",
       "    }\n",
       "\n",
       "    .dataframe thead th {\n",
       "        text-align: right;\n",
       "    }\n",
       "</style>\n",
       "<table border=\"1\" class=\"dataframe\">\n",
       "  <thead>\n",
       "    <tr style=\"text-align: right;\">\n",
       "      <th></th>\n",
       "      <th>PassengerId</th>\n",
       "      <th>Survived</th>\n",
       "      <th>Pclass</th>\n",
       "      <th>Name</th>\n",
       "      <th>Sex</th>\n",
       "      <th>Age</th>\n",
       "      <th>SibSp</th>\n",
       "      <th>Parch</th>\n",
       "      <th>Ticket</th>\n",
       "      <th>Fare</th>\n",
       "      <th>Cabin</th>\n",
       "      <th>Embarked</th>\n",
       "    </tr>\n",
       "  </thead>\n",
       "  <tbody>\n",
       "    <tr>\n",
       "      <th>27</th>\n",
       "      <td>28</td>\n",
       "      <td>0</td>\n",
       "      <td>1</td>\n",
       "      <td>Fortune, Mr. Charles Alexander</td>\n",
       "      <td>male</td>\n",
       "      <td>19.0</td>\n",
       "      <td>3</td>\n",
       "      <td>2</td>\n",
       "      <td>19950</td>\n",
       "      <td>263.00</td>\n",
       "      <td>C23 C25 C27</td>\n",
       "      <td>S</td>\n",
       "    </tr>\n",
       "    <tr>\n",
       "      <th>88</th>\n",
       "      <td>89</td>\n",
       "      <td>1</td>\n",
       "      <td>1</td>\n",
       "      <td>Fortune, Miss. Mabel Helen</td>\n",
       "      <td>female</td>\n",
       "      <td>23.0</td>\n",
       "      <td>3</td>\n",
       "      <td>2</td>\n",
       "      <td>19950</td>\n",
       "      <td>263.00</td>\n",
       "      <td>C23 C25 C27</td>\n",
       "      <td>S</td>\n",
       "    </tr>\n",
       "    <tr>\n",
       "      <th>159</th>\n",
       "      <td>160</td>\n",
       "      <td>0</td>\n",
       "      <td>3</td>\n",
       "      <td>Sage, Master. Thomas Henry</td>\n",
       "      <td>male</td>\n",
       "      <td>NaN</td>\n",
       "      <td>8</td>\n",
       "      <td>2</td>\n",
       "      <td>CA. 2343</td>\n",
       "      <td>69.55</td>\n",
       "      <td>NaN</td>\n",
       "      <td>S</td>\n",
       "    </tr>\n",
       "    <tr>\n",
       "      <th>180</th>\n",
       "      <td>181</td>\n",
       "      <td>0</td>\n",
       "      <td>3</td>\n",
       "      <td>Sage, Miss. Constance Gladys</td>\n",
       "      <td>female</td>\n",
       "      <td>NaN</td>\n",
       "      <td>8</td>\n",
       "      <td>2</td>\n",
       "      <td>CA. 2343</td>\n",
       "      <td>69.55</td>\n",
       "      <td>NaN</td>\n",
       "      <td>S</td>\n",
       "    </tr>\n",
       "    <tr>\n",
       "      <th>201</th>\n",
       "      <td>202</td>\n",
       "      <td>0</td>\n",
       "      <td>3</td>\n",
       "      <td>Sage, Mr. Frederick</td>\n",
       "      <td>male</td>\n",
       "      <td>NaN</td>\n",
       "      <td>8</td>\n",
       "      <td>2</td>\n",
       "      <td>CA. 2343</td>\n",
       "      <td>69.55</td>\n",
       "      <td>NaN</td>\n",
       "      <td>S</td>\n",
       "    </tr>\n",
       "    <tr>\n",
       "      <th>324</th>\n",
       "      <td>325</td>\n",
       "      <td>0</td>\n",
       "      <td>3</td>\n",
       "      <td>Sage, Mr. George John Jr</td>\n",
       "      <td>male</td>\n",
       "      <td>NaN</td>\n",
       "      <td>8</td>\n",
       "      <td>2</td>\n",
       "      <td>CA. 2343</td>\n",
       "      <td>69.55</td>\n",
       "      <td>NaN</td>\n",
       "      <td>S</td>\n",
       "    </tr>\n",
       "    <tr>\n",
       "      <th>341</th>\n",
       "      <td>342</td>\n",
       "      <td>1</td>\n",
       "      <td>1</td>\n",
       "      <td>Fortune, Miss. Alice Elizabeth</td>\n",
       "      <td>female</td>\n",
       "      <td>24.0</td>\n",
       "      <td>3</td>\n",
       "      <td>2</td>\n",
       "      <td>19950</td>\n",
       "      <td>263.00</td>\n",
       "      <td>C23 C25 C27</td>\n",
       "      <td>S</td>\n",
       "    </tr>\n",
       "    <tr>\n",
       "      <th>792</th>\n",
       "      <td>793</td>\n",
       "      <td>0</td>\n",
       "      <td>3</td>\n",
       "      <td>Sage, Miss. Stella Anna</td>\n",
       "      <td>female</td>\n",
       "      <td>NaN</td>\n",
       "      <td>8</td>\n",
       "      <td>2</td>\n",
       "      <td>CA. 2343</td>\n",
       "      <td>69.55</td>\n",
       "      <td>NaN</td>\n",
       "      <td>S</td>\n",
       "    </tr>\n",
       "    <tr>\n",
       "      <th>846</th>\n",
       "      <td>847</td>\n",
       "      <td>0</td>\n",
       "      <td>3</td>\n",
       "      <td>Sage, Mr. Douglas Bullen</td>\n",
       "      <td>male</td>\n",
       "      <td>NaN</td>\n",
       "      <td>8</td>\n",
       "      <td>2</td>\n",
       "      <td>CA. 2343</td>\n",
       "      <td>69.55</td>\n",
       "      <td>NaN</td>\n",
       "      <td>S</td>\n",
       "    </tr>\n",
       "    <tr>\n",
       "      <th>863</th>\n",
       "      <td>864</td>\n",
       "      <td>0</td>\n",
       "      <td>3</td>\n",
       "      <td>Sage, Miss. Dorothy Edith \"Dolly\"</td>\n",
       "      <td>female</td>\n",
       "      <td>NaN</td>\n",
       "      <td>8</td>\n",
       "      <td>2</td>\n",
       "      <td>CA. 2343</td>\n",
       "      <td>69.55</td>\n",
       "      <td>NaN</td>\n",
       "      <td>S</td>\n",
       "    </tr>\n",
       "  </tbody>\n",
       "</table>\n",
       "</div>"
      ],
      "text/plain": [
       "     PassengerId  Survived  Pclass                               Name     Sex  \\\n",
       "27            28         0       1     Fortune, Mr. Charles Alexander    male   \n",
       "88            89         1       1         Fortune, Miss. Mabel Helen  female   \n",
       "159          160         0       3         Sage, Master. Thomas Henry    male   \n",
       "180          181         0       3       Sage, Miss. Constance Gladys  female   \n",
       "201          202         0       3                Sage, Mr. Frederick    male   \n",
       "324          325         0       3           Sage, Mr. George John Jr    male   \n",
       "341          342         1       1     Fortune, Miss. Alice Elizabeth  female   \n",
       "792          793         0       3            Sage, Miss. Stella Anna  female   \n",
       "846          847         0       3           Sage, Mr. Douglas Bullen    male   \n",
       "863          864         0       3  Sage, Miss. Dorothy Edith \"Dolly\"  female   \n",
       "\n",
       "      Age  SibSp  Parch    Ticket    Fare        Cabin Embarked  \n",
       "27   19.0      3      2     19950  263.00  C23 C25 C27        S  \n",
       "88   23.0      3      2     19950  263.00  C23 C25 C27        S  \n",
       "159   NaN      8      2  CA. 2343   69.55          NaN        S  \n",
       "180   NaN      8      2  CA. 2343   69.55          NaN        S  \n",
       "201   NaN      8      2  CA. 2343   69.55          NaN        S  \n",
       "324   NaN      8      2  CA. 2343   69.55          NaN        S  \n",
       "341  24.0      3      2     19950  263.00  C23 C25 C27        S  \n",
       "792   NaN      8      2  CA. 2343   69.55          NaN        S  \n",
       "846   NaN      8      2  CA. 2343   69.55          NaN        S  \n",
       "863   NaN      8      2  CA. 2343   69.55          NaN        S  "
      ]
     },
     "execution_count": 19,
     "metadata": {},
     "output_type": "execute_result"
    }
   ],
   "source": [
    "train_df.loc[detect_outliers(train_df,[\"Age\",\"SibSp\",\"Parch\",\"Fare\"])]"
   ]
  },
  {
   "cell_type": "code",
   "execution_count": 20,
   "id": "8ff4f23c",
   "metadata": {
    "execution": {
     "iopub.execute_input": "2024-08-01T15:24:20.916923Z",
     "iopub.status.busy": "2024-08-01T15:24:20.916118Z",
     "iopub.status.idle": "2024-08-01T15:24:20.930407Z",
     "shell.execute_reply": "2024-08-01T15:24:20.929308Z"
    },
    "papermill": {
     "duration": 0.040323,
     "end_time": "2024-08-01T15:24:20.933029",
     "exception": false,
     "start_time": "2024-08-01T15:24:20.892706",
     "status": "completed"
    },
    "tags": []
   },
   "outputs": [],
   "source": [
    "#drop outliers\n",
    "train_df = train_df.drop(detect_outliers(train_df, [\"Age\", \"SibSp\", \"Parch\", \"Fare\"]), axis=0).reset_index(drop = True)\n"
   ]
  },
  {
   "cell_type": "markdown",
   "id": "70a48e37",
   "metadata": {
    "papermill": {
     "duration": 0.021676,
     "end_time": "2024-08-01T15:24:20.976621",
     "exception": false,
     "start_time": "2024-08-01T15:24:20.954945",
     "status": "completed"
    },
    "tags": []
   },
   "source": [
    "<a id = \"5\"></a><br>\n",
    "# MİSSİNG VALUE\n",
    "\n",
    "Find Missing Value\n",
    "\n",
    "Fill Missing Value"
   ]
  },
  {
   "cell_type": "code",
   "execution_count": 21,
   "id": "0d060365",
   "metadata": {
    "execution": {
     "iopub.execute_input": "2024-08-01T15:24:21.023491Z",
     "iopub.status.busy": "2024-08-01T15:24:21.022439Z",
     "iopub.status.idle": "2024-08-01T15:24:21.033103Z",
     "shell.execute_reply": "2024-08-01T15:24:21.031812Z"
    },
    "papermill": {
     "duration": 0.037246,
     "end_time": "2024-08-01T15:24:21.035953",
     "exception": false,
     "start_time": "2024-08-01T15:24:20.998707",
     "status": "completed"
    },
    "tags": []
   },
   "outputs": [],
   "source": [
    "train_df_len = len(train_df)\n",
    "train_df =pd.concat([train_df,test_df],axis =0).reset_index(drop =True)"
   ]
  },
  {
   "cell_type": "markdown",
   "id": "abaabbd0",
   "metadata": {
    "papermill": {
     "duration": 0.021847,
     "end_time": "2024-08-01T15:24:21.081606",
     "exception": false,
     "start_time": "2024-08-01T15:24:21.059759",
     "status": "completed"
    },
    "tags": []
   },
   "source": [
    "test ile birleştirdik"
   ]
  },
  {
   "cell_type": "markdown",
   "id": "ad9d0813",
   "metadata": {
    "papermill": {
     "duration": 0.023344,
     "end_time": "2024-08-01T15:24:21.128529",
     "exception": false,
     "start_time": "2024-08-01T15:24:21.105185",
     "status": "completed"
    },
    "tags": []
   },
   "source": [
    "# FİND MİSSİNG"
   ]
  },
  {
   "cell_type": "code",
   "execution_count": 22,
   "id": "e4b46208",
   "metadata": {
    "execution": {
     "iopub.execute_input": "2024-08-01T15:24:21.176395Z",
     "iopub.status.busy": "2024-08-01T15:24:21.175915Z",
     "iopub.status.idle": "2024-08-01T15:24:21.187473Z",
     "shell.execute_reply": "2024-08-01T15:24:21.186276Z"
    },
    "papermill": {
     "duration": 0.038677,
     "end_time": "2024-08-01T15:24:21.190166",
     "exception": false,
     "start_time": "2024-08-01T15:24:21.151489",
     "status": "completed"
    },
    "tags": []
   },
   "outputs": [
    {
     "data": {
      "text/plain": [
       "Index(['Survived', 'Age', 'Fare', 'Cabin', 'Embarked'], dtype='object')"
      ]
     },
     "execution_count": 22,
     "metadata": {},
     "output_type": "execute_result"
    }
   ],
   "source": [
    "train_df.columns[train_df.isnull().any()]"
   ]
  },
  {
   "cell_type": "markdown",
   "id": "ba5ced2d",
   "metadata": {
    "papermill": {
     "duration": 0.023115,
     "end_time": "2024-08-01T15:24:21.236039",
     "exception": false,
     "start_time": "2024-08-01T15:24:21.212924",
     "status": "completed"
    },
    "tags": []
   },
   "source": [
    "hangi data frame lerde null değer var kolonları tespit ettik"
   ]
  },
  {
   "cell_type": "code",
   "execution_count": 23,
   "id": "41151993",
   "metadata": {
    "execution": {
     "iopub.execute_input": "2024-08-01T15:24:21.283053Z",
     "iopub.status.busy": "2024-08-01T15:24:21.282609Z",
     "iopub.status.idle": "2024-08-01T15:24:21.292679Z",
     "shell.execute_reply": "2024-08-01T15:24:21.291532Z"
    },
    "papermill": {
     "duration": 0.037075,
     "end_time": "2024-08-01T15:24:21.295482",
     "exception": false,
     "start_time": "2024-08-01T15:24:21.258407",
     "status": "completed"
    },
    "tags": []
   },
   "outputs": [
    {
     "data": {
      "text/plain": [
       "PassengerId       0\n",
       "Survived        418\n",
       "Pclass            0\n",
       "Name              0\n",
       "Sex               0\n",
       "Age             256\n",
       "SibSp             0\n",
       "Parch             0\n",
       "Ticket            0\n",
       "Fare              1\n",
       "Cabin          1007\n",
       "Embarked          2\n",
       "dtype: int64"
      ]
     },
     "execution_count": 23,
     "metadata": {},
     "output_type": "execute_result"
    }
   ],
   "source": [
    "train_df.isnull().sum()"
   ]
  },
  {
   "cell_type": "markdown",
   "id": "f3db00c2",
   "metadata": {
    "papermill": {
     "duration": 0.022557,
     "end_time": "2024-08-01T15:24:21.344052",
     "exception": false,
     "start_time": "2024-08-01T15:24:21.321495",
     "status": "completed"
    },
    "tags": []
   },
   "source": [
    "# FİLL MİSSİNG \n",
    "\n",
    "embarked 2\n",
    "\n",
    "fare 1\n"
   ]
  },
  {
   "cell_type": "code",
   "execution_count": 24,
   "id": "e61b101d",
   "metadata": {
    "execution": {
     "iopub.execute_input": "2024-08-01T15:24:21.391084Z",
     "iopub.status.busy": "2024-08-01T15:24:21.390652Z",
     "iopub.status.idle": "2024-08-01T15:24:21.412319Z",
     "shell.execute_reply": "2024-08-01T15:24:21.411067Z"
    },
    "papermill": {
     "duration": 0.048589,
     "end_time": "2024-08-01T15:24:21.415162",
     "exception": false,
     "start_time": "2024-08-01T15:24:21.366573",
     "status": "completed"
    },
    "tags": []
   },
   "outputs": [
    {
     "data": {
      "text/html": [
       "<div>\n",
       "<style scoped>\n",
       "    .dataframe tbody tr th:only-of-type {\n",
       "        vertical-align: middle;\n",
       "    }\n",
       "\n",
       "    .dataframe tbody tr th {\n",
       "        vertical-align: top;\n",
       "    }\n",
       "\n",
       "    .dataframe thead th {\n",
       "        text-align: right;\n",
       "    }\n",
       "</style>\n",
       "<table border=\"1\" class=\"dataframe\">\n",
       "  <thead>\n",
       "    <tr style=\"text-align: right;\">\n",
       "      <th></th>\n",
       "      <th>PassengerId</th>\n",
       "      <th>Survived</th>\n",
       "      <th>Pclass</th>\n",
       "      <th>Name</th>\n",
       "      <th>Sex</th>\n",
       "      <th>Age</th>\n",
       "      <th>SibSp</th>\n",
       "      <th>Parch</th>\n",
       "      <th>Ticket</th>\n",
       "      <th>Fare</th>\n",
       "      <th>Cabin</th>\n",
       "      <th>Embarked</th>\n",
       "    </tr>\n",
       "  </thead>\n",
       "  <tbody>\n",
       "    <tr>\n",
       "      <th>60</th>\n",
       "      <td>62</td>\n",
       "      <td>1.0</td>\n",
       "      <td>1</td>\n",
       "      <td>Icard, Miss. Amelie</td>\n",
       "      <td>female</td>\n",
       "      <td>38.0</td>\n",
       "      <td>0</td>\n",
       "      <td>0</td>\n",
       "      <td>113572</td>\n",
       "      <td>80.0</td>\n",
       "      <td>B28</td>\n",
       "      <td>NaN</td>\n",
       "    </tr>\n",
       "    <tr>\n",
       "      <th>821</th>\n",
       "      <td>830</td>\n",
       "      <td>1.0</td>\n",
       "      <td>1</td>\n",
       "      <td>Stone, Mrs. George Nelson (Martha Evelyn)</td>\n",
       "      <td>female</td>\n",
       "      <td>62.0</td>\n",
       "      <td>0</td>\n",
       "      <td>0</td>\n",
       "      <td>113572</td>\n",
       "      <td>80.0</td>\n",
       "      <td>B28</td>\n",
       "      <td>NaN</td>\n",
       "    </tr>\n",
       "  </tbody>\n",
       "</table>\n",
       "</div>"
      ],
      "text/plain": [
       "     PassengerId  Survived  Pclass                                       Name  \\\n",
       "60            62       1.0       1                        Icard, Miss. Amelie   \n",
       "821          830       1.0       1  Stone, Mrs. George Nelson (Martha Evelyn)   \n",
       "\n",
       "        Sex   Age  SibSp  Parch  Ticket  Fare Cabin Embarked  \n",
       "60   female  38.0      0      0  113572  80.0   B28      NaN  \n",
       "821  female  62.0      0      0  113572  80.0   B28      NaN  "
      ]
     },
     "execution_count": 24,
     "metadata": {},
     "output_type": "execute_result"
    }
   ],
   "source": [
    "train_df[train_df[\"Embarked\"].isnull()]"
   ]
  },
  {
   "cell_type": "markdown",
   "id": "92af94b5",
   "metadata": {
    "papermill": {
     "duration": 0.022617,
     "end_time": "2024-08-01T15:24:21.460136",
     "exception": false,
     "start_time": "2024-08-01T15:24:21.437519",
     "status": "completed"
    },
    "tags": []
   },
   "source": [
    "bu iki yolcunun nereden bindikleri belli değil."
   ]
  },
  {
   "cell_type": "code",
   "execution_count": 25,
   "id": "8f256978",
   "metadata": {
    "execution": {
     "iopub.execute_input": "2024-08-01T15:24:21.506732Z",
     "iopub.status.busy": "2024-08-01T15:24:21.506300Z",
     "iopub.status.idle": "2024-08-01T15:24:21.769747Z",
     "shell.execute_reply": "2024-08-01T15:24:21.768560Z"
    },
    "papermill": {
     "duration": 0.289586,
     "end_time": "2024-08-01T15:24:21.772170",
     "exception": false,
     "start_time": "2024-08-01T15:24:21.482584",
     "status": "completed"
    },
    "tags": []
   },
   "outputs": [
    {
     "data": {
      "image/png": "[encoded data removed]",
      "text/plain": [
       "<Figure size 640x480 with 1 Axes>"
      ]
     },
     "metadata": {},
     "output_type": "display_data"
    }
   ],
   "source": [
    "train_df.boxplot(column=\"Fare\",by = \"Embarked\")\n",
    "plt.show()"
   ]
  },
  {
   "cell_type": "code",
   "execution_count": 26,
   "id": "ed7c0c17",
   "metadata": {
    "execution": {
     "iopub.execute_input": "2024-08-01T15:24:21.820742Z",
     "iopub.status.busy": "2024-08-01T15:24:21.820304Z",
     "iopub.status.idle": "2024-08-01T15:24:21.834971Z",
     "shell.execute_reply": "2024-08-01T15:24:21.833716Z"
    },
    "papermill": {
     "duration": 0.042261,
     "end_time": "2024-08-01T15:24:21.837539",
     "exception": false,
     "start_time": "2024-08-01T15:24:21.795278",
     "status": "completed"
    },
    "tags": []
   },
   "outputs": [
    {
     "data": {
      "text/html": [
       "<div>\n",
       "<style scoped>\n",
       "    .dataframe tbody tr th:only-of-type {\n",
       "        vertical-align: middle;\n",
       "    }\n",
       "\n",
       "    .dataframe tbody tr th {\n",
       "        vertical-align: top;\n",
       "    }\n",
       "\n",
       "    .dataframe thead th {\n",
       "        text-align: right;\n",
       "    }\n",
       "</style>\n",
       "<table border=\"1\" class=\"dataframe\">\n",
       "  <thead>\n",
       "    <tr style=\"text-align: right;\">\n",
       "      <th></th>\n",
       "      <th>PassengerId</th>\n",
       "      <th>Survived</th>\n",
       "      <th>Pclass</th>\n",
       "      <th>Name</th>\n",
       "      <th>Sex</th>\n",
       "      <th>Age</th>\n",
       "      <th>SibSp</th>\n",
       "      <th>Parch</th>\n",
       "      <th>Ticket</th>\n",
       "      <th>Fare</th>\n",
       "      <th>Cabin</th>\n",
       "      <th>Embarked</th>\n",
       "    </tr>\n",
       "  </thead>\n",
       "  <tbody>\n",
       "  </tbody>\n",
       "</table>\n",
       "</div>"
      ],
      "text/plain": [
       "Empty DataFrame\n",
       "Columns: [PassengerId, Survived, Pclass, Name, Sex, Age, SibSp, Parch, Ticket, Fare, Cabin, Embarked]\n",
       "Index: []"
      ]
     },
     "execution_count": 26,
     "metadata": {},
     "output_type": "execute_result"
    }
   ],
   "source": [
    "train_df[\"Embarked\"] = train_df[\"Embarked\"].fillna(\"C\")\n",
    "train_df[train_df[\"Embarked\"].isnull()]"
   ]
  },
  {
   "cell_type": "markdown",
   "id": "e6bd7a21",
   "metadata": {
    "papermill": {
     "duration": 0.0233,
     "end_time": "2024-08-01T15:24:21.884193",
     "exception": false,
     "start_time": "2024-08-01T15:24:21.860893",
     "status": "completed"
    },
    "tags": []
   },
   "source": [
    "boş olanları C ile doldur dedik çünkü muhtemelen C limanından bindi 80 fare ödeyenler."
   ]
  },
  {
   "cell_type": "code",
   "execution_count": 27,
   "id": "40610de4",
   "metadata": {
    "execution": {
     "iopub.execute_input": "2024-08-01T15:24:21.932523Z",
     "iopub.status.busy": "2024-08-01T15:24:21.932074Z",
     "iopub.status.idle": "2024-08-01T15:24:21.950358Z",
     "shell.execute_reply": "2024-08-01T15:24:21.949169Z"
    },
    "papermill": {
     "duration": 0.045495,
     "end_time": "2024-08-01T15:24:21.952993",
     "exception": false,
     "start_time": "2024-08-01T15:24:21.907498",
     "status": "completed"
    },
    "tags": []
   },
   "outputs": [
    {
     "data": {
      "text/html": [
       "<div>\n",
       "<style scoped>\n",
       "    .dataframe tbody tr th:only-of-type {\n",
       "        vertical-align: middle;\n",
       "    }\n",
       "\n",
       "    .dataframe tbody tr th {\n",
       "        vertical-align: top;\n",
       "    }\n",
       "\n",
       "    .dataframe thead th {\n",
       "        text-align: right;\n",
       "    }\n",
       "</style>\n",
       "<table border=\"1\" class=\"dataframe\">\n",
       "  <thead>\n",
       "    <tr style=\"text-align: right;\">\n",
       "      <th></th>\n",
       "      <th>PassengerId</th>\n",
       "      <th>Survived</th>\n",
       "      <th>Pclass</th>\n",
       "      <th>Name</th>\n",
       "      <th>Sex</th>\n",
       "      <th>Age</th>\n",
       "      <th>SibSp</th>\n",
       "      <th>Parch</th>\n",
       "      <th>Ticket</th>\n",
       "      <th>Fare</th>\n",
       "      <th>Cabin</th>\n",
       "      <th>Embarked</th>\n",
       "    </tr>\n",
       "  </thead>\n",
       "  <tbody>\n",
       "    <tr>\n",
       "      <th>1033</th>\n",
       "      <td>1044</td>\n",
       "      <td>NaN</td>\n",
       "      <td>3</td>\n",
       "      <td>Storey, Mr. Thomas</td>\n",
       "      <td>male</td>\n",
       "      <td>60.5</td>\n",
       "      <td>0</td>\n",
       "      <td>0</td>\n",
       "      <td>3701</td>\n",
       "      <td>NaN</td>\n",
       "      <td>NaN</td>\n",
       "      <td>S</td>\n",
       "    </tr>\n",
       "  </tbody>\n",
       "</table>\n",
       "</div>"
      ],
      "text/plain": [
       "      PassengerId  Survived  Pclass                Name   Sex   Age  SibSp  \\\n",
       "1033         1044       NaN       3  Storey, Mr. Thomas  male  60.5      0   \n",
       "\n",
       "      Parch Ticket  Fare Cabin Embarked  \n",
       "1033      0   3701   NaN   NaN        S  "
      ]
     },
     "execution_count": 27,
     "metadata": {},
     "output_type": "execute_result"
    }
   ],
   "source": [
    "train_df[train_df[\"Fare\"].isnull()]"
   ]
  },
  {
   "cell_type": "code",
   "execution_count": 28,
   "id": "5d2e8815",
   "metadata": {
    "execution": {
     "iopub.execute_input": "2024-08-01T15:24:22.002260Z",
     "iopub.status.busy": "2024-08-01T15:24:22.001170Z",
     "iopub.status.idle": "2024-08-01T15:24:22.009605Z",
     "shell.execute_reply": "2024-08-01T15:24:22.008570Z"
    },
    "papermill": {
     "duration": 0.035788,
     "end_time": "2024-08-01T15:24:22.012157",
     "exception": false,
     "start_time": "2024-08-01T15:24:21.976369",
     "status": "completed"
    },
    "tags": []
   },
   "outputs": [],
   "source": [
    "train_df[\"Fare\"] = train_df[\"Fare\"].fillna(np.mean(train_df[train_df[\"Pclass\"] == 3][\"Fare\"]))"
   ]
  },
  {
   "cell_type": "code",
   "execution_count": 29,
   "id": "c4b3fa7c",
   "metadata": {
    "execution": {
     "iopub.execute_input": "2024-08-01T15:24:22.063129Z",
     "iopub.status.busy": "2024-08-01T15:24:22.061814Z",
     "iopub.status.idle": "2024-08-01T15:24:22.074842Z",
     "shell.execute_reply": "2024-08-01T15:24:22.073689Z"
    },
    "papermill": {
     "duration": 0.040886,
     "end_time": "2024-08-01T15:24:22.077058",
     "exception": false,
     "start_time": "2024-08-01T15:24:22.036172",
     "status": "completed"
    },
    "tags": []
   },
   "outputs": [
    {
     "data": {
      "text/html": [
       "<div>\n",
       "<style scoped>\n",
       "    .dataframe tbody tr th:only-of-type {\n",
       "        vertical-align: middle;\n",
       "    }\n",
       "\n",
       "    .dataframe tbody tr th {\n",
       "        vertical-align: top;\n",
       "    }\n",
       "\n",
       "    .dataframe thead th {\n",
       "        text-align: right;\n",
       "    }\n",
       "</style>\n",
       "<table border=\"1\" class=\"dataframe\">\n",
       "  <thead>\n",
       "    <tr style=\"text-align: right;\">\n",
       "      <th></th>\n",
       "      <th>PassengerId</th>\n",
       "      <th>Survived</th>\n",
       "      <th>Pclass</th>\n",
       "      <th>Name</th>\n",
       "      <th>Sex</th>\n",
       "      <th>Age</th>\n",
       "      <th>SibSp</th>\n",
       "      <th>Parch</th>\n",
       "      <th>Ticket</th>\n",
       "      <th>Fare</th>\n",
       "      <th>Cabin</th>\n",
       "      <th>Embarked</th>\n",
       "    </tr>\n",
       "  </thead>\n",
       "  <tbody>\n",
       "  </tbody>\n",
       "</table>\n",
       "</div>"
      ],
      "text/plain": [
       "Empty DataFrame\n",
       "Columns: [PassengerId, Survived, Pclass, Name, Sex, Age, SibSp, Parch, Ticket, Fare, Cabin, Embarked]\n",
       "Index: []"
      ]
     },
     "execution_count": 29,
     "metadata": {},
     "output_type": "execute_result"
    }
   ],
   "source": [
    "train_df[train_df[\"Fare\"].isnull()]"
   ]
  }
 ],
 "metadata": {
  "kaggle": {
   "accelerator": "none",
   "dataSources": [
    {
     "datasetId": 5475406,
     "sourceId": 9076333,
     "sourceType": "datasetVersion"
    }
   ],
   "dockerImageVersionId": 30746,
   "isGpuEnabled": false,
   "isInternetEnabled": true,
   "language": "python",
   "sourceType": "notebook"
  },
  "kernelspec": {
   "display_name": "Python 3",
   "language": "python",
   "name": "python3"
  },
  "language_info": {
   "codemirror_mode": {
    "name": "ipython",
    "version": 3
   },
   "file_extension": ".py",
   "mimetype": "text/x-python",
   "name": "python",
   "nbconvert_exporter": "python",
   "pygments_lexer": "ipython3",
   "version": "3.10.13"
  },
  "papermill": {
   "default_parameters": {},
   "duration": 12.933582,
   "end_time": "2024-08-01T15:24:22.723186",
   "environment_variables": {},
   "exception": null,
   "input_path": "__notebook__.ipynb",
   "output_path": "__notebook__.ipynb",
   "parameters": {},
   "start_time": "2024-08-01T15:24:09.789604",
   "version": "2.5.0"
  }
 },
 "nbformat": 4,
 "nbformat_minor": 5
}

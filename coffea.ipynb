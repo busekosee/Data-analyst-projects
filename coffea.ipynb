{
 "cells": [
  {
   "cell_type": "code",
   "execution_count": 1,
   "id": "2dfe36c1",
   "metadata": {
    "_cell_guid": "b1076dfc-b9ad-4769-8c92-a6c4dae69d19",
    "_uuid": "8f2839f25d086af736a60e9eeb907d3b93b6e0e5",
    "execution": {
     "iopub.execute_input": "2024-07-28T15:31:47.084737Z",
     "iopub.status.busy": "2024-07-28T15:31:47.084337Z",
     "iopub.status.idle": "2024-07-28T15:31:49.197795Z",
     "shell.execute_reply": "2024-07-28T15:31:49.196350Z"
    },
    "papermill": {
     "duration": 2.124326,
     "end_time": "2024-07-28T15:31:49.200236",
     "exception": false,
     "start_time": "2024-07-28T15:31:47.075910",
     "status": "completed"
    },
    "tags": []
   },
   "outputs": [
    {
     "name": "stdout",
     "output_type": "stream",
     "text": [
      "/kaggle/input/worldwide-coffee-habits-dataset/worldwide_coffee_habits.csv\n"
     ]
    }
   ],
   "source": [
    "# This Python 3 environment comes with many helpful analytics libraries installed\n",
    "# It is defined by the kaggle/python Docker image: https://github.com/kaggle/docker-python\n",
    "# For example, here's several helpful packages to load\n",
    "\n",
    "import numpy as np # linear algebra\n",
    "import pandas as pd # data processing, CSV file I/O (e.g. pd.read_csv)\n",
    "import matplotlib.pyplot as plt\n",
    "import seaborn as sns  # visualization tool\n",
    "\n",
    "# Input data files are available in the read-only \"../input/\" directory\n",
    "# For example, running this (by clicking run or pressing Shift+Enter) will list all files under the input directory\n",
    "\n",
    "import os\n",
    "for dirname, _, filenames in os.walk('/kaggle/input'):\n",
    "    for filename in filenames:\n",
    "        print(os.path.join(dirname, filename))\n",
    "\n",
    "# You can write up to 20GB to the current directory (/kaggle/working/) that gets preserved as output when you create a version using \"Save & Run All\" \n",
    "# You can also write temporary files to /kaggle/temp/, but they won't be saved outside of the current session"
   ]
  },
  {
   "cell_type": "code",
   "execution_count": 2,
   "id": "850d35b1",
   "metadata": {
    "execution": {
     "iopub.execute_input": "2024-07-28T15:31:49.216653Z",
     "iopub.status.busy": "2024-07-28T15:31:49.215522Z",
     "iopub.status.idle": "2024-07-28T15:31:49.294308Z",
     "shell.execute_reply": "2024-07-28T15:31:49.293089Z"
    },
    "papermill": {
     "duration": 0.090362,
     "end_time": "2024-07-28T15:31:49.296884",
     "exception": false,
     "start_time": "2024-07-28T15:31:49.206522",
     "status": "completed"
    },
    "tags": []
   },
   "outputs": [
    {
     "data": {
      "text/html": [
       "<div>\n",
       "<style scoped>\n",
       "    .dataframe tbody tr th:only-of-type {\n",
       "        vertical-align: middle;\n",
       "    }\n",
       "\n",
       "    .dataframe tbody tr th {\n",
       "        vertical-align: top;\n",
       "    }\n",
       "\n",
       "    .dataframe thead th {\n",
       "        text-align: right;\n",
       "    }\n",
       "</style>\n",
       "<table border=\"1\" class=\"dataframe\">\n",
       "  <thead>\n",
       "    <tr style=\"text-align: right;\">\n",
       "      <th></th>\n",
       "      <th>Country</th>\n",
       "      <th>Year</th>\n",
       "      <th>Coffee Consumption (kg per capita per year)</th>\n",
       "      <th>Average Coffee Price (USD per kg)</th>\n",
       "      <th>Type of Coffee Consumed</th>\n",
       "      <th>Population (millions)</th>\n",
       "    </tr>\n",
       "  </thead>\n",
       "  <tbody>\n",
       "    <tr>\n",
       "      <th>0</th>\n",
       "      <td>Country_39</td>\n",
       "      <td>2023</td>\n",
       "      <td>9.253939</td>\n",
       "      <td>6.467453</td>\n",
       "      <td>Americano</td>\n",
       "      <td>65.929478</td>\n",
       "    </tr>\n",
       "    <tr>\n",
       "      <th>1</th>\n",
       "      <td>Country_29</td>\n",
       "      <td>2011</td>\n",
       "      <td>9.981203</td>\n",
       "      <td>4.346744</td>\n",
       "      <td>Mocha</td>\n",
       "      <td>82.456680</td>\n",
       "    </tr>\n",
       "    <tr>\n",
       "      <th>2</th>\n",
       "      <td>Country_15</td>\n",
       "      <td>2020</td>\n",
       "      <td>3.312916</td>\n",
       "      <td>8.767496</td>\n",
       "      <td>Latte</td>\n",
       "      <td>110.938862</td>\n",
       "    </tr>\n",
       "    <tr>\n",
       "      <th>3</th>\n",
       "      <td>Country_43</td>\n",
       "      <td>2005</td>\n",
       "      <td>2.436180</td>\n",
       "      <td>11.748750</td>\n",
       "      <td>Espresso</td>\n",
       "      <td>43.137207</td>\n",
       "    </tr>\n",
       "    <tr>\n",
       "      <th>4</th>\n",
       "      <td>Country_8</td>\n",
       "      <td>2019</td>\n",
       "      <td>4.637849</td>\n",
       "      <td>8.999099</td>\n",
       "      <td>Mocha</td>\n",
       "      <td>65.484262</td>\n",
       "    </tr>\n",
       "  </tbody>\n",
       "</table>\n",
       "</div>"
      ],
      "text/plain": [
       "      Country  Year  Coffee Consumption (kg per capita per year)  \\\n",
       "0  Country_39  2023                                     9.253939   \n",
       "1  Country_29  2011                                     9.981203   \n",
       "2  Country_15  2020                                     3.312916   \n",
       "3  Country_43  2005                                     2.436180   \n",
       "4   Country_8  2019                                     4.637849   \n",
       "\n",
       "   Average Coffee Price (USD per kg) Type of Coffee Consumed  \\\n",
       "0                           6.467453               Americano   \n",
       "1                           4.346744                   Mocha   \n",
       "2                           8.767496                   Latte   \n",
       "3                          11.748750                Espresso   \n",
       "4                           8.999099                   Mocha   \n",
       "\n",
       "   Population (millions)  \n",
       "0              65.929478  \n",
       "1              82.456680  \n",
       "2             110.938862  \n",
       "3              43.137207  \n",
       "4              65.484262  "
      ]
     },
     "execution_count": 2,
     "metadata": {},
     "output_type": "execute_result"
    }
   ],
   "source": [
    "data = pd.read_csv('/kaggle/input/worldwide-coffee-habits-dataset/worldwide_coffee_habits.csv')\n",
    "data.head()"
   ]
  },
  {
   "cell_type": "code",
   "execution_count": 3,
   "id": "b7044871",
   "metadata": {
    "execution": {
     "iopub.execute_input": "2024-07-28T15:31:49.311670Z",
     "iopub.status.busy": "2024-07-28T15:31:49.310863Z",
     "iopub.status.idle": "2024-07-28T15:31:49.317302Z",
     "shell.execute_reply": "2024-07-28T15:31:49.316283Z"
    },
    "papermill": {
     "duration": 0.016504,
     "end_time": "2024-07-28T15:31:49.319756",
     "exception": false,
     "start_time": "2024-07-28T15:31:49.303252",
     "status": "completed"
    },
    "tags": []
   },
   "outputs": [
    {
     "name": "stdout",
     "output_type": "stream",
     "text": [
      "25\n",
      "10\n"
     ]
    }
   ],
   "source": [
    "square = lambda x: x**2     # where x is name of argument\n",
    "print(square(5))\n",
    "tot = lambda x,y,z: x+y+z   # where x,y,z are names of arguments\n",
    "print(tot(1,6,3))"
   ]
  },
  {
   "cell_type": "code",
   "execution_count": 4,
   "id": "5a4177f0",
   "metadata": {
    "execution": {
     "iopub.execute_input": "2024-07-28T15:31:49.334920Z",
     "iopub.status.busy": "2024-07-28T15:31:49.334538Z",
     "iopub.status.idle": "2024-07-28T15:31:49.340779Z",
     "shell.execute_reply": "2024-07-28T15:31:49.339629Z"
    },
    "papermill": {
     "duration": 0.016754,
     "end_time": "2024-07-28T15:31:49.343020",
     "exception": false,
     "start_time": "2024-07-28T15:31:49.326266",
     "status": "completed"
    },
    "tags": []
   },
   "outputs": [
    {
     "name": "stdout",
     "output_type": "stream",
     "text": [
      "[27, 125, 343]\n"
     ]
    }
   ],
   "source": [
    "number_list = [3,5,7]\n",
    "y = map(lambda x:x**3,number_list)\n",
    "print(list(y))"
   ]
  },
  {
   "cell_type": "code",
   "execution_count": 5,
   "id": "d4d42ba6",
   "metadata": {
    "execution": {
     "iopub.execute_input": "2024-07-28T15:31:49.358487Z",
     "iopub.status.busy": "2024-07-28T15:31:49.358042Z",
     "iopub.status.idle": "2024-07-28T15:31:49.365355Z",
     "shell.execute_reply": "2024-07-28T15:31:49.363948Z"
    },
    "papermill": {
     "duration": 0.017863,
     "end_time": "2024-07-28T15:31:49.367865",
     "exception": false,
     "start_time": "2024-07-28T15:31:49.350002",
     "status": "completed"
    },
    "tags": []
   },
   "outputs": [
    {
     "name": "stdout",
     "output_type": "stream",
     "text": [
      "<zip object at 0x7b1f9bdf8ac0>\n",
      "[(1, 9), (4, 6), (3, 8), (6, 8)]\n"
     ]
    }
   ],
   "source": [
    "list1 = [1,4,3,6]\n",
    "list2 = [9,6,8,8]\n",
    "z = zip(list1,list2)\n",
    "print(z)\n",
    "z_list = list(z)\n",
    "print(z_list)"
   ]
  },
  {
   "cell_type": "markdown",
   "id": "d41d4186",
   "metadata": {
    "papermill": {
     "duration": 0.006172,
     "end_time": "2024-07-28T15:31:49.380673",
     "exception": false,
     "start_time": "2024-07-28T15:31:49.374501",
     "status": "completed"
    },
    "tags": []
   },
   "source": [
    "zip metodu iki listeyi birleştiriyor aslında"
   ]
  },
  {
   "cell_type": "code",
   "execution_count": 6,
   "id": "24d17145",
   "metadata": {
    "execution": {
     "iopub.execute_input": "2024-07-28T15:31:49.395678Z",
     "iopub.status.busy": "2024-07-28T15:31:49.395229Z",
     "iopub.status.idle": "2024-07-28T15:31:49.401294Z",
     "shell.execute_reply": "2024-07-28T15:31:49.400079Z"
    },
    "papermill": {
     "duration": 0.016696,
     "end_time": "2024-07-28T15:31:49.403921",
     "exception": false,
     "start_time": "2024-07-28T15:31:49.387225",
     "status": "completed"
    },
    "tags": []
   },
   "outputs": [
    {
     "name": "stdout",
     "output_type": "stream",
     "text": [
      "(1, 4, 3, 6)\n",
      "(9, 6, 8, 8)\n",
      "<class 'tuple'>\n"
     ]
    }
   ],
   "source": [
    "un_zip = zip(*z_list)\n",
    "un_list1,un_list2 = list(un_zip) # unzip returns tuple\n",
    "print(un_list1)\n",
    "print(un_list2)\n",
    "print(type(un_list2))"
   ]
  },
  {
   "cell_type": "markdown",
   "id": "a1b85429",
   "metadata": {
    "papermill": {
     "duration": 0.00636,
     "end_time": "2024-07-28T15:31:49.416859",
     "exception": false,
     "start_time": "2024-07-28T15:31:49.410499",
     "status": "completed"
    },
    "tags": []
   },
   "source": [
    "unzip objeye çevirir sonra yine list yaparız"
   ]
  },
  {
   "cell_type": "code",
   "execution_count": 7,
   "id": "a7b1b163",
   "metadata": {
    "execution": {
     "iopub.execute_input": "2024-07-28T15:31:49.431633Z",
     "iopub.status.busy": "2024-07-28T15:31:49.431226Z",
     "iopub.status.idle": "2024-07-28T15:31:49.437224Z",
     "shell.execute_reply": "2024-07-28T15:31:49.435955Z"
    },
    "papermill": {
     "duration": 0.016079,
     "end_time": "2024-07-28T15:31:49.439535",
     "exception": false,
     "start_time": "2024-07-28T15:31:49.423456",
     "status": "completed"
    },
    "tags": []
   },
   "outputs": [
    {
     "name": "stdout",
     "output_type": "stream",
     "text": [
      "[2, 3, 4]\n"
     ]
    }
   ],
   "source": [
    "num1 = [1,2,3]\n",
    "num2 = [i + 1 for i in num1 ]\n",
    "print(num2)"
   ]
  },
  {
   "cell_type": "markdown",
   "id": "80d40852",
   "metadata": {
    "papermill": {
     "duration": 0.006621,
     "end_time": "2024-07-28T15:31:49.454062",
     "exception": false,
     "start_time": "2024-07-28T15:31:49.447441",
     "status": "completed"
    },
    "tags": []
   },
   "source": [
    "num1 i döngüye sok herseferinde bir artırarak num2 ye yaz"
   ]
  },
  {
   "cell_type": "code",
   "execution_count": 8,
   "id": "f29dea11",
   "metadata": {
    "execution": {
     "iopub.execute_input": "2024-07-28T15:31:49.470260Z",
     "iopub.status.busy": "2024-07-28T15:31:49.469865Z",
     "iopub.status.idle": "2024-07-28T15:31:49.475970Z",
     "shell.execute_reply": "2024-07-28T15:31:49.474795Z"
    },
    "papermill": {
     "duration": 0.017564,
     "end_time": "2024-07-28T15:31:49.478365",
     "exception": false,
     "start_time": "2024-07-28T15:31:49.460801",
     "status": "completed"
    },
    "tags": []
   },
   "outputs": [
    {
     "name": "stdout",
     "output_type": "stream",
     "text": [
      "[0, 100, 20]\n"
     ]
    }
   ],
   "source": [
    "num1 = [5,10,15]\n",
    "num2 = [i**2 if i == 10 else i-5 if i < 7 else i+5 for i in num1]\n",
    "print(num2)"
   ]
  },
  {
   "cell_type": "markdown",
   "id": "4d40180e",
   "metadata": {
    "papermill": {
     "duration": 0.006395,
     "end_time": "2024-07-28T15:31:49.491777",
     "exception": false,
     "start_time": "2024-07-28T15:31:49.485382",
     "status": "completed"
    },
    "tags": []
   },
   "source": [
    "eğer 10 ise num1 deki her değerin karesi i<7 ise i-5 yap her değer için ve değilse döngüde her değere 5 ekle"
   ]
  },
  {
   "cell_type": "code",
   "execution_count": 9,
   "id": "cfb920af",
   "metadata": {
    "execution": {
     "iopub.execute_input": "2024-07-28T15:31:49.506804Z",
     "iopub.status.busy": "2024-07-28T15:31:49.506386Z",
     "iopub.status.idle": "2024-07-28T15:31:49.530487Z",
     "shell.execute_reply": "2024-07-28T15:31:49.529196Z"
    },
    "papermill": {
     "duration": 0.034513,
     "end_time": "2024-07-28T15:31:49.532988",
     "exception": false,
     "start_time": "2024-07-28T15:31:49.498475",
     "status": "completed"
    },
    "tags": []
   },
   "outputs": [
    {
     "data": {
      "text/html": [
       "<div>\n",
       "<style scoped>\n",
       "    .dataframe tbody tr th:only-of-type {\n",
       "        vertical-align: middle;\n",
       "    }\n",
       "\n",
       "    .dataframe tbody tr th {\n",
       "        vertical-align: top;\n",
       "    }\n",
       "\n",
       "    .dataframe thead th {\n",
       "        text-align: right;\n",
       "    }\n",
       "</style>\n",
       "<table border=\"1\" class=\"dataframe\">\n",
       "  <thead>\n",
       "    <tr style=\"text-align: right;\">\n",
       "      <th></th>\n",
       "      <th>Year_level</th>\n",
       "      <th>Year</th>\n",
       "    </tr>\n",
       "  </thead>\n",
       "  <tbody>\n",
       "    <tr>\n",
       "      <th>0</th>\n",
       "      <td>high</td>\n",
       "      <td>2023</td>\n",
       "    </tr>\n",
       "    <tr>\n",
       "      <th>1</th>\n",
       "      <td>low</td>\n",
       "      <td>2011</td>\n",
       "    </tr>\n",
       "    <tr>\n",
       "      <th>2</th>\n",
       "      <td>high</td>\n",
       "      <td>2020</td>\n",
       "    </tr>\n",
       "    <tr>\n",
       "      <th>3</th>\n",
       "      <td>low</td>\n",
       "      <td>2005</td>\n",
       "    </tr>\n",
       "    <tr>\n",
       "      <th>4</th>\n",
       "      <td>high</td>\n",
       "      <td>2019</td>\n",
       "    </tr>\n",
       "    <tr>\n",
       "      <th>5</th>\n",
       "      <td>low</td>\n",
       "      <td>2004</td>\n",
       "    </tr>\n",
       "  </tbody>\n",
       "</table>\n",
       "</div>"
      ],
      "text/plain": [
       "  Year_level  Year\n",
       "0       high  2023\n",
       "1        low  2011\n",
       "2       high  2020\n",
       "3        low  2005\n",
       "4       high  2019\n",
       "5        low  2004"
      ]
     },
     "execution_count": 9,
     "metadata": {},
     "output_type": "execute_result"
    }
   ],
   "source": [
    "threshold = sum(data.Year)/len(data.Year)\n",
    "data[\"Year_level\"] = [\"high\" if i > threshold else \"low\" for i in data.Year]\n",
    "data.loc[:5,[\"Year_level\",\"Year\"]]"
   ]
  },
  {
   "cell_type": "code",
   "execution_count": 10,
   "id": "eb60da1d",
   "metadata": {
    "execution": {
     "iopub.execute_input": "2024-07-28T15:31:49.550093Z",
     "iopub.status.busy": "2024-07-28T15:31:49.549680Z",
     "iopub.status.idle": "2024-07-28T15:31:49.577736Z",
     "shell.execute_reply": "2024-07-28T15:31:49.576607Z"
    },
    "papermill": {
     "duration": 0.039332,
     "end_time": "2024-07-28T15:31:49.580474",
     "exception": false,
     "start_time": "2024-07-28T15:31:49.541142",
     "status": "completed"
    },
    "tags": []
   },
   "outputs": [
    {
     "data": {
      "text/html": [
       "<div>\n",
       "<style scoped>\n",
       "    .dataframe tbody tr th:only-of-type {\n",
       "        vertical-align: middle;\n",
       "    }\n",
       "\n",
       "    .dataframe tbody tr th {\n",
       "        vertical-align: top;\n",
       "    }\n",
       "\n",
       "    .dataframe thead th {\n",
       "        text-align: right;\n",
       "    }\n",
       "</style>\n",
       "<table border=\"1\" class=\"dataframe\">\n",
       "  <thead>\n",
       "    <tr style=\"text-align: right;\">\n",
       "      <th></th>\n",
       "      <th>Year</th>\n",
       "      <th>Coffee Consumption (kg per capita per year)</th>\n",
       "      <th>Average Coffee Price (USD per kg)</th>\n",
       "      <th>Population (millions)</th>\n",
       "    </tr>\n",
       "  </thead>\n",
       "  <tbody>\n",
       "    <tr>\n",
       "      <th>count</th>\n",
       "      <td>10000.000000</td>\n",
       "      <td>10000.000000</td>\n",
       "      <td>10000.000000</td>\n",
       "      <td>10000.000000</td>\n",
       "    </tr>\n",
       "    <tr>\n",
       "      <th>mean</th>\n",
       "      <td>2011.666900</td>\n",
       "      <td>6.061865</td>\n",
       "      <td>9.461891</td>\n",
       "      <td>75.167120</td>\n",
       "    </tr>\n",
       "    <tr>\n",
       "      <th>std</th>\n",
       "      <td>6.911695</td>\n",
       "      <td>2.313427</td>\n",
       "      <td>3.151403</td>\n",
       "      <td>43.023176</td>\n",
       "    </tr>\n",
       "    <tr>\n",
       "      <th>min</th>\n",
       "      <td>2000.000000</td>\n",
       "      <td>2.000385</td>\n",
       "      <td>4.000742</td>\n",
       "      <td>1.002494</td>\n",
       "    </tr>\n",
       "    <tr>\n",
       "      <th>25%</th>\n",
       "      <td>2006.000000</td>\n",
       "      <td>4.070743</td>\n",
       "      <td>6.728261</td>\n",
       "      <td>37.465847</td>\n",
       "    </tr>\n",
       "    <tr>\n",
       "      <th>50%</th>\n",
       "      <td>2012.000000</td>\n",
       "      <td>6.094491</td>\n",
       "      <td>9.458371</td>\n",
       "      <td>75.021943</td>\n",
       "    </tr>\n",
       "    <tr>\n",
       "      <th>75%</th>\n",
       "      <td>2018.000000</td>\n",
       "      <td>8.061127</td>\n",
       "      <td>12.136285</td>\n",
       "      <td>112.595868</td>\n",
       "    </tr>\n",
       "    <tr>\n",
       "      <th>max</th>\n",
       "      <td>2023.000000</td>\n",
       "      <td>9.999399</td>\n",
       "      <td>14.997053</td>\n",
       "      <td>149.995850</td>\n",
       "    </tr>\n",
       "  </tbody>\n",
       "</table>\n",
       "</div>"
      ],
      "text/plain": [
       "               Year  Coffee Consumption (kg per capita per year)  \\\n",
       "count  10000.000000                                 10000.000000   \n",
       "mean    2011.666900                                     6.061865   \n",
       "std        6.911695                                     2.313427   \n",
       "min     2000.000000                                     2.000385   \n",
       "25%     2006.000000                                     4.070743   \n",
       "50%     2012.000000                                     6.094491   \n",
       "75%     2018.000000                                     8.061127   \n",
       "max     2023.000000                                     9.999399   \n",
       "\n",
       "       Average Coffee Price (USD per kg)  Population (millions)  \n",
       "count                       10000.000000           10000.000000  \n",
       "mean                            9.461891              75.167120  \n",
       "std                             3.151403              43.023176  \n",
       "min                             4.000742               1.002494  \n",
       "25%                             6.728261              37.465847  \n",
       "50%                             9.458371              75.021943  \n",
       "75%                            12.136285             112.595868  \n",
       "max                            14.997053             149.995850  "
      ]
     },
     "execution_count": 10,
     "metadata": {},
     "output_type": "execute_result"
    }
   ],
   "source": [
    "data.describe() "
   ]
  },
  {
   "cell_type": "code",
   "execution_count": 11,
   "id": "f6783851",
   "metadata": {
    "execution": {
     "iopub.execute_input": "2024-07-28T15:31:49.597079Z",
     "iopub.status.busy": "2024-07-28T15:31:49.596385Z",
     "iopub.status.idle": "2024-07-28T15:31:49.610821Z",
     "shell.execute_reply": "2024-07-28T15:31:49.609650Z"
    },
    "papermill": {
     "duration": 0.025242,
     "end_time": "2024-07-28T15:31:49.613109",
     "exception": false,
     "start_time": "2024-07-28T15:31:49.587867",
     "status": "completed"
    },
    "tags": []
   },
   "outputs": [
    {
     "data": {
      "text/html": [
       "<div>\n",
       "<style scoped>\n",
       "    .dataframe tbody tr th:only-of-type {\n",
       "        vertical-align: middle;\n",
       "    }\n",
       "\n",
       "    .dataframe tbody tr th {\n",
       "        vertical-align: top;\n",
       "    }\n",
       "\n",
       "    .dataframe thead th {\n",
       "        text-align: right;\n",
       "    }\n",
       "</style>\n",
       "<table border=\"1\" class=\"dataframe\">\n",
       "  <thead>\n",
       "    <tr style=\"text-align: right;\">\n",
       "      <th></th>\n",
       "      <th>Country</th>\n",
       "      <th>Year</th>\n",
       "      <th>Coffee Consumption (kg per capita per year)</th>\n",
       "      <th>Average Coffee Price (USD per kg)</th>\n",
       "      <th>Type of Coffee Consumed</th>\n",
       "      <th>Population (millions)</th>\n",
       "      <th>Year_level</th>\n",
       "    </tr>\n",
       "  </thead>\n",
       "  <tbody>\n",
       "    <tr>\n",
       "      <th>0</th>\n",
       "      <td>Country_39</td>\n",
       "      <td>2023</td>\n",
       "      <td>9.253939</td>\n",
       "      <td>6.467453</td>\n",
       "      <td>Americano</td>\n",
       "      <td>65.929478</td>\n",
       "      <td>high</td>\n",
       "    </tr>\n",
       "    <tr>\n",
       "      <th>1</th>\n",
       "      <td>Country_29</td>\n",
       "      <td>2011</td>\n",
       "      <td>9.981203</td>\n",
       "      <td>4.346744</td>\n",
       "      <td>Mocha</td>\n",
       "      <td>82.456680</td>\n",
       "      <td>low</td>\n",
       "    </tr>\n",
       "    <tr>\n",
       "      <th>2</th>\n",
       "      <td>Country_15</td>\n",
       "      <td>2020</td>\n",
       "      <td>3.312916</td>\n",
       "      <td>8.767496</td>\n",
       "      <td>Latte</td>\n",
       "      <td>110.938862</td>\n",
       "      <td>high</td>\n",
       "    </tr>\n",
       "    <tr>\n",
       "      <th>3</th>\n",
       "      <td>Country_43</td>\n",
       "      <td>2005</td>\n",
       "      <td>2.436180</td>\n",
       "      <td>11.748750</td>\n",
       "      <td>Espresso</td>\n",
       "      <td>43.137207</td>\n",
       "      <td>low</td>\n",
       "    </tr>\n",
       "    <tr>\n",
       "      <th>4</th>\n",
       "      <td>Country_8</td>\n",
       "      <td>2019</td>\n",
       "      <td>4.637849</td>\n",
       "      <td>8.999099</td>\n",
       "      <td>Mocha</td>\n",
       "      <td>65.484262</td>\n",
       "      <td>high</td>\n",
       "    </tr>\n",
       "  </tbody>\n",
       "</table>\n",
       "</div>"
      ],
      "text/plain": [
       "      Country  Year  Coffee Consumption (kg per capita per year)  \\\n",
       "0  Country_39  2023                                     9.253939   \n",
       "1  Country_29  2011                                     9.981203   \n",
       "2  Country_15  2020                                     3.312916   \n",
       "3  Country_43  2005                                     2.436180   \n",
       "4   Country_8  2019                                     4.637849   \n",
       "\n",
       "   Average Coffee Price (USD per kg) Type of Coffee Consumed  \\\n",
       "0                           6.467453               Americano   \n",
       "1                           4.346744                   Mocha   \n",
       "2                           8.767496                   Latte   \n",
       "3                          11.748750                Espresso   \n",
       "4                           8.999099                   Mocha   \n",
       "\n",
       "   Population (millions) Year_level  \n",
       "0              65.929478       high  \n",
       "1              82.456680        low  \n",
       "2             110.938862       high  \n",
       "3              43.137207        low  \n",
       "4              65.484262       high  "
      ]
     },
     "execution_count": 11,
     "metadata": {},
     "output_type": "execute_result"
    }
   ],
   "source": [
    "data_new = data.head()    # I only take 5 rows into new data\n",
    "data_new"
   ]
  },
  {
   "cell_type": "code",
   "execution_count": 12,
   "id": "17f2b3b0",
   "metadata": {
    "execution": {
     "iopub.execute_input": "2024-07-28T15:31:49.630558Z",
     "iopub.status.busy": "2024-07-28T15:31:49.629479Z",
     "iopub.status.idle": "2024-07-28T15:31:49.649614Z",
     "shell.execute_reply": "2024-07-28T15:31:49.648555Z"
    },
    "papermill": {
     "duration": 0.031143,
     "end_time": "2024-07-28T15:31:49.651879",
     "exception": false,
     "start_time": "2024-07-28T15:31:49.620736",
     "status": "completed"
    },
    "tags": []
   },
   "outputs": [
    {
     "data": {
      "text/html": [
       "<div>\n",
       "<style scoped>\n",
       "    .dataframe tbody tr th:only-of-type {\n",
       "        vertical-align: middle;\n",
       "    }\n",
       "\n",
       "    .dataframe tbody tr th {\n",
       "        vertical-align: top;\n",
       "    }\n",
       "\n",
       "    .dataframe thead th {\n",
       "        text-align: right;\n",
       "    }\n",
       "</style>\n",
       "<table border=\"1\" class=\"dataframe\">\n",
       "  <thead>\n",
       "    <tr style=\"text-align: right;\">\n",
       "      <th></th>\n",
       "      <th>Country</th>\n",
       "      <th>variable</th>\n",
       "      <th>value</th>\n",
       "    </tr>\n",
       "  </thead>\n",
       "  <tbody>\n",
       "    <tr>\n",
       "      <th>0</th>\n",
       "      <td>Country_39</td>\n",
       "      <td>Year</td>\n",
       "      <td>2023</td>\n",
       "    </tr>\n",
       "    <tr>\n",
       "      <th>1</th>\n",
       "      <td>Country_29</td>\n",
       "      <td>Year</td>\n",
       "      <td>2011</td>\n",
       "    </tr>\n",
       "    <tr>\n",
       "      <th>2</th>\n",
       "      <td>Country_15</td>\n",
       "      <td>Year</td>\n",
       "      <td>2020</td>\n",
       "    </tr>\n",
       "    <tr>\n",
       "      <th>3</th>\n",
       "      <td>Country_43</td>\n",
       "      <td>Year</td>\n",
       "      <td>2005</td>\n",
       "    </tr>\n",
       "    <tr>\n",
       "      <th>4</th>\n",
       "      <td>Country_8</td>\n",
       "      <td>Year</td>\n",
       "      <td>2019</td>\n",
       "    </tr>\n",
       "    <tr>\n",
       "      <th>5</th>\n",
       "      <td>Country_39</td>\n",
       "      <td>Year_level</td>\n",
       "      <td>high</td>\n",
       "    </tr>\n",
       "    <tr>\n",
       "      <th>6</th>\n",
       "      <td>Country_29</td>\n",
       "      <td>Year_level</td>\n",
       "      <td>low</td>\n",
       "    </tr>\n",
       "    <tr>\n",
       "      <th>7</th>\n",
       "      <td>Country_15</td>\n",
       "      <td>Year_level</td>\n",
       "      <td>high</td>\n",
       "    </tr>\n",
       "    <tr>\n",
       "      <th>8</th>\n",
       "      <td>Country_43</td>\n",
       "      <td>Year_level</td>\n",
       "      <td>low</td>\n",
       "    </tr>\n",
       "    <tr>\n",
       "      <th>9</th>\n",
       "      <td>Country_8</td>\n",
       "      <td>Year_level</td>\n",
       "      <td>high</td>\n",
       "    </tr>\n",
       "  </tbody>\n",
       "</table>\n",
       "</div>"
      ],
      "text/plain": [
       "      Country    variable value\n",
       "0  Country_39        Year  2023\n",
       "1  Country_29        Year  2011\n",
       "2  Country_15        Year  2020\n",
       "3  Country_43        Year  2005\n",
       "4   Country_8        Year  2019\n",
       "5  Country_39  Year_level  high\n",
       "6  Country_29  Year_level   low\n",
       "7  Country_15  Year_level  high\n",
       "8  Country_43  Year_level   low\n",
       "9   Country_8  Year_level  high"
      ]
     },
     "execution_count": 12,
     "metadata": {},
     "output_type": "execute_result"
    }
   ],
   "source": [
    "melted = pd.melt(frame=data_new,id_vars = 'Country', value_vars= ['Year','Year_level'])\n",
    "melted"
   ]
  },
  {
   "cell_type": "markdown",
   "id": "9f075b22",
   "metadata": {
    "papermill": {
     "duration": 0.007386,
     "end_time": "2024-07-28T15:31:49.666964",
     "exception": false,
     "start_time": "2024-07-28T15:31:49.659578",
     "status": "completed"
    },
    "tags": []
   },
   "source": [
    "yeni bir data tablosu oluşuturyoruz üzerinde melt yapılması için"
   ]
  },
  {
   "cell_type": "code",
   "execution_count": 13,
   "id": "e16844f0",
   "metadata": {
    "execution": {
     "iopub.execute_input": "2024-07-28T15:31:49.684124Z",
     "iopub.status.busy": "2024-07-28T15:31:49.683737Z",
     "iopub.status.idle": "2024-07-28T15:31:49.702188Z",
     "shell.execute_reply": "2024-07-28T15:31:49.701054Z"
    },
    "papermill": {
     "duration": 0.030033,
     "end_time": "2024-07-28T15:31:49.704804",
     "exception": false,
     "start_time": "2024-07-28T15:31:49.674771",
     "status": "completed"
    },
    "tags": []
   },
   "outputs": [
    {
     "data": {
      "text/html": [
       "<div>\n",
       "<style scoped>\n",
       "    .dataframe tbody tr th:only-of-type {\n",
       "        vertical-align: middle;\n",
       "    }\n",
       "\n",
       "    .dataframe tbody tr th {\n",
       "        vertical-align: top;\n",
       "    }\n",
       "\n",
       "    .dataframe thead th {\n",
       "        text-align: right;\n",
       "    }\n",
       "</style>\n",
       "<table border=\"1\" class=\"dataframe\">\n",
       "  <thead>\n",
       "    <tr style=\"text-align: right;\">\n",
       "      <th>variable</th>\n",
       "      <th>Year</th>\n",
       "      <th>Year_level</th>\n",
       "    </tr>\n",
       "    <tr>\n",
       "      <th>Country</th>\n",
       "      <th></th>\n",
       "      <th></th>\n",
       "    </tr>\n",
       "  </thead>\n",
       "  <tbody>\n",
       "    <tr>\n",
       "      <th>Country_15</th>\n",
       "      <td>2020</td>\n",
       "      <td>high</td>\n",
       "    </tr>\n",
       "    <tr>\n",
       "      <th>Country_29</th>\n",
       "      <td>2011</td>\n",
       "      <td>low</td>\n",
       "    </tr>\n",
       "    <tr>\n",
       "      <th>Country_39</th>\n",
       "      <td>2023</td>\n",
       "      <td>high</td>\n",
       "    </tr>\n",
       "    <tr>\n",
       "      <th>Country_43</th>\n",
       "      <td>2005</td>\n",
       "      <td>low</td>\n",
       "    </tr>\n",
       "    <tr>\n",
       "      <th>Country_8</th>\n",
       "      <td>2019</td>\n",
       "      <td>high</td>\n",
       "    </tr>\n",
       "  </tbody>\n",
       "</table>\n",
       "</div>"
      ],
      "text/plain": [
       "variable    Year Year_level\n",
       "Country                    \n",
       "Country_15  2020       high\n",
       "Country_29  2011        low\n",
       "Country_39  2023       high\n",
       "Country_43  2005        low\n",
       "Country_8   2019       high"
      ]
     },
     "execution_count": 13,
     "metadata": {},
     "output_type": "execute_result"
    }
   ],
   "source": [
    "melted.pivot(index = 'Country', columns = 'variable',values='value')"
   ]
  },
  {
   "cell_type": "markdown",
   "id": "e2c041f1",
   "metadata": {
    "papermill": {
     "duration": 0.007577,
     "end_time": "2024-07-28T15:31:49.720570",
     "exception": false,
     "start_time": "2024-07-28T15:31:49.712993",
     "status": "completed"
    },
    "tags": []
   },
   "source": [
    "burada eski haline geldi"
   ]
  },
  {
   "cell_type": "code",
   "execution_count": 14,
   "id": "bbec99e9",
   "metadata": {
    "execution": {
     "iopub.execute_input": "2024-07-28T15:31:49.738205Z",
     "iopub.status.busy": "2024-07-28T15:31:49.737785Z",
     "iopub.status.idle": "2024-07-28T15:31:49.756120Z",
     "shell.execute_reply": "2024-07-28T15:31:49.754884Z"
    },
    "papermill": {
     "duration": 0.02993,
     "end_time": "2024-07-28T15:31:49.758552",
     "exception": false,
     "start_time": "2024-07-28T15:31:49.728622",
     "status": "completed"
    },
    "tags": []
   },
   "outputs": [
    {
     "data": {
      "text/html": [
       "<div>\n",
       "<style scoped>\n",
       "    .dataframe tbody tr th:only-of-type {\n",
       "        vertical-align: middle;\n",
       "    }\n",
       "\n",
       "    .dataframe tbody tr th {\n",
       "        vertical-align: top;\n",
       "    }\n",
       "\n",
       "    .dataframe thead th {\n",
       "        text-align: right;\n",
       "    }\n",
       "</style>\n",
       "<table border=\"1\" class=\"dataframe\">\n",
       "  <thead>\n",
       "    <tr style=\"text-align: right;\">\n",
       "      <th></th>\n",
       "      <th>Country</th>\n",
       "      <th>Year</th>\n",
       "      <th>Coffee Consumption (kg per capita per year)</th>\n",
       "      <th>Average Coffee Price (USD per kg)</th>\n",
       "      <th>Type of Coffee Consumed</th>\n",
       "      <th>Population (millions)</th>\n",
       "      <th>Year_level</th>\n",
       "    </tr>\n",
       "  </thead>\n",
       "  <tbody>\n",
       "    <tr>\n",
       "      <th>0</th>\n",
       "      <td>Country_39</td>\n",
       "      <td>2023</td>\n",
       "      <td>9.253939</td>\n",
       "      <td>6.467453</td>\n",
       "      <td>Americano</td>\n",
       "      <td>65.929478</td>\n",
       "      <td>high</td>\n",
       "    </tr>\n",
       "    <tr>\n",
       "      <th>1</th>\n",
       "      <td>Country_29</td>\n",
       "      <td>2011</td>\n",
       "      <td>9.981203</td>\n",
       "      <td>4.346744</td>\n",
       "      <td>Mocha</td>\n",
       "      <td>82.456680</td>\n",
       "      <td>low</td>\n",
       "    </tr>\n",
       "    <tr>\n",
       "      <th>2</th>\n",
       "      <td>Country_15</td>\n",
       "      <td>2020</td>\n",
       "      <td>3.312916</td>\n",
       "      <td>8.767496</td>\n",
       "      <td>Latte</td>\n",
       "      <td>110.938862</td>\n",
       "      <td>high</td>\n",
       "    </tr>\n",
       "    <tr>\n",
       "      <th>3</th>\n",
       "      <td>Country_43</td>\n",
       "      <td>2005</td>\n",
       "      <td>2.436180</td>\n",
       "      <td>11.748750</td>\n",
       "      <td>Espresso</td>\n",
       "      <td>43.137207</td>\n",
       "      <td>low</td>\n",
       "    </tr>\n",
       "    <tr>\n",
       "      <th>4</th>\n",
       "      <td>Country_8</td>\n",
       "      <td>2019</td>\n",
       "      <td>4.637849</td>\n",
       "      <td>8.999099</td>\n",
       "      <td>Mocha</td>\n",
       "      <td>65.484262</td>\n",
       "      <td>high</td>\n",
       "    </tr>\n",
       "    <tr>\n",
       "      <th>5</th>\n",
       "      <td>Country_26</td>\n",
       "      <td>2013</td>\n",
       "      <td>6.107139</td>\n",
       "      <td>11.553694</td>\n",
       "      <td>Mocha</td>\n",
       "      <td>95.808370</td>\n",
       "      <td>high</td>\n",
       "    </tr>\n",
       "    <tr>\n",
       "      <th>6</th>\n",
       "      <td>Country_22</td>\n",
       "      <td>2013</td>\n",
       "      <td>7.848531</td>\n",
       "      <td>14.844245</td>\n",
       "      <td>Americano</td>\n",
       "      <td>121.098306</td>\n",
       "      <td>high</td>\n",
       "    </tr>\n",
       "    <tr>\n",
       "      <th>7</th>\n",
       "      <td>Country_31</td>\n",
       "      <td>2019</td>\n",
       "      <td>2.152059</td>\n",
       "      <td>5.516845</td>\n",
       "      <td>Americano</td>\n",
       "      <td>97.327529</td>\n",
       "      <td>high</td>\n",
       "    </tr>\n",
       "    <tr>\n",
       "      <th>8</th>\n",
       "      <td>Country_43</td>\n",
       "      <td>2012</td>\n",
       "      <td>5.715941</td>\n",
       "      <td>4.641472</td>\n",
       "      <td>Cappuccino</td>\n",
       "      <td>33.916437</td>\n",
       "      <td>high</td>\n",
       "    </tr>\n",
       "    <tr>\n",
       "      <th>9</th>\n",
       "      <td>Country_10</td>\n",
       "      <td>2002</td>\n",
       "      <td>9.210541</td>\n",
       "      <td>7.022841</td>\n",
       "      <td>Americano</td>\n",
       "      <td>43.327649</td>\n",
       "      <td>low</td>\n",
       "    </tr>\n",
       "  </tbody>\n",
       "</table>\n",
       "</div>"
      ],
      "text/plain": [
       "      Country  Year  Coffee Consumption (kg per capita per year)  \\\n",
       "0  Country_39  2023                                     9.253939   \n",
       "1  Country_29  2011                                     9.981203   \n",
       "2  Country_15  2020                                     3.312916   \n",
       "3  Country_43  2005                                     2.436180   \n",
       "4   Country_8  2019                                     4.637849   \n",
       "5  Country_26  2013                                     6.107139   \n",
       "6  Country_22  2013                                     7.848531   \n",
       "7  Country_31  2019                                     2.152059   \n",
       "8  Country_43  2012                                     5.715941   \n",
       "9  Country_10  2002                                     9.210541   \n",
       "\n",
       "   Average Coffee Price (USD per kg) Type of Coffee Consumed  \\\n",
       "0                           6.467453               Americano   \n",
       "1                           4.346744                   Mocha   \n",
       "2                           8.767496                   Latte   \n",
       "3                          11.748750                Espresso   \n",
       "4                           8.999099                   Mocha   \n",
       "5                          11.553694                   Mocha   \n",
       "6                          14.844245               Americano   \n",
       "7                           5.516845               Americano   \n",
       "8                           4.641472              Cappuccino   \n",
       "9                           7.022841               Americano   \n",
       "\n",
       "   Population (millions) Year_level  \n",
       "0              65.929478       high  \n",
       "1              82.456680        low  \n",
       "2             110.938862       high  \n",
       "3              43.137207        low  \n",
       "4              65.484262       high  \n",
       "5              95.808370       high  \n",
       "6             121.098306       high  \n",
       "7              97.327529       high  \n",
       "8              33.916437       high  \n",
       "9              43.327649        low  "
      ]
     },
     "execution_count": 14,
     "metadata": {},
     "output_type": "execute_result"
    }
   ],
   "source": [
    "data1 = data.head()\n",
    "data2= data.tail()\n",
    "conc_data_row = pd.concat([data1,data2],axis =0,ignore_index =True) # axis = 0 : adds dataframes in row\n",
    "conc_data_row"
   ]
  },
  {
   "cell_type": "markdown",
   "id": "237d3e40",
   "metadata": {
    "papermill": {
     "duration": 0.007876,
     "end_time": "2024-07-28T15:31:49.774624",
     "exception": false,
     "start_time": "2024-07-28T15:31:49.766748",
     "status": "completed"
    },
    "tags": []
   },
   "source": [
    "head ve taili birleştirdi axis=0 aşarı doğru"
   ]
  },
  {
   "cell_type": "code",
   "execution_count": 15,
   "id": "d2e67a2c",
   "metadata": {
    "execution": {
     "iopub.execute_input": "2024-07-28T15:31:49.793244Z",
     "iopub.status.busy": "2024-07-28T15:31:49.792468Z",
     "iopub.status.idle": "2024-07-28T15:31:49.804377Z",
     "shell.execute_reply": "2024-07-28T15:31:49.803311Z"
    },
    "papermill": {
     "duration": 0.023778,
     "end_time": "2024-07-28T15:31:49.806787",
     "exception": false,
     "start_time": "2024-07-28T15:31:49.783009",
     "status": "completed"
    },
    "tags": []
   },
   "outputs": [
    {
     "data": {
      "text/html": [
       "<div>\n",
       "<style scoped>\n",
       "    .dataframe tbody tr th:only-of-type {\n",
       "        vertical-align: middle;\n",
       "    }\n",
       "\n",
       "    .dataframe tbody tr th {\n",
       "        vertical-align: top;\n",
       "    }\n",
       "\n",
       "    .dataframe thead th {\n",
       "        text-align: right;\n",
       "    }\n",
       "</style>\n",
       "<table border=\"1\" class=\"dataframe\">\n",
       "  <thead>\n",
       "    <tr style=\"text-align: right;\">\n",
       "      <th></th>\n",
       "      <th>Year</th>\n",
       "      <th>Year_level</th>\n",
       "    </tr>\n",
       "  </thead>\n",
       "  <tbody>\n",
       "    <tr>\n",
       "      <th>0</th>\n",
       "      <td>2023</td>\n",
       "      <td>high</td>\n",
       "    </tr>\n",
       "    <tr>\n",
       "      <th>1</th>\n",
       "      <td>2011</td>\n",
       "      <td>low</td>\n",
       "    </tr>\n",
       "    <tr>\n",
       "      <th>2</th>\n",
       "      <td>2020</td>\n",
       "      <td>high</td>\n",
       "    </tr>\n",
       "    <tr>\n",
       "      <th>3</th>\n",
       "      <td>2005</td>\n",
       "      <td>low</td>\n",
       "    </tr>\n",
       "    <tr>\n",
       "      <th>4</th>\n",
       "      <td>2019</td>\n",
       "      <td>high</td>\n",
       "    </tr>\n",
       "  </tbody>\n",
       "</table>\n",
       "</div>"
      ],
      "text/plain": [
       "   Year Year_level\n",
       "0  2023       high\n",
       "1  2011        low\n",
       "2  2020       high\n",
       "3  2005        low\n",
       "4  2019       high"
      ]
     },
     "execution_count": 15,
     "metadata": {},
     "output_type": "execute_result"
    }
   ],
   "source": [
    "data1 = data['Year'].head()\n",
    "data2= data['Year_level'].head()\n",
    "conc_data_col = pd.concat([data1,data2],axis =1) # axis = 1 : adds dataframes in column\n",
    "conc_data_col"
   ]
  },
  {
   "cell_type": "markdown",
   "id": "73399cff",
   "metadata": {
    "papermill": {
     "duration": 0.00799,
     "end_time": "2024-07-28T15:31:49.823023",
     "exception": false,
     "start_time": "2024-07-28T15:31:49.815033",
     "status": "completed"
    },
    "tags": []
   },
   "source": [
    "year ve year_level ilk beş birleştir getir"
   ]
  },
  {
   "cell_type": "code",
   "execution_count": 16,
   "id": "00de61b6",
   "metadata": {
    "execution": {
     "iopub.execute_input": "2024-07-28T15:31:49.841692Z",
     "iopub.status.busy": "2024-07-28T15:31:49.840941Z",
     "iopub.status.idle": "2024-07-28T15:31:49.852310Z",
     "shell.execute_reply": "2024-07-28T15:31:49.851240Z"
    },
    "papermill": {
     "duration": 0.023198,
     "end_time": "2024-07-28T15:31:49.854575",
     "exception": false,
     "start_time": "2024-07-28T15:31:49.831377",
     "status": "completed"
    },
    "tags": []
   },
   "outputs": [
    {
     "data": {
      "text/plain": [
       "Year\n",
       "2014    455\n",
       "2015    447\n",
       "2019    434\n",
       "2020    433\n",
       "2016    433\n",
       "2012    431\n",
       "2021    431\n",
       "2018    429\n",
       "2000    428\n",
       "2017    422\n",
       "2009    422\n",
       "2023    419\n",
       "2003    418\n",
       "2022    417\n",
       "2006    417\n",
       "2008    415\n",
       "2011    415\n",
       "2013    404\n",
       "2007    400\n",
       "2005    400\n",
       "2004    396\n",
       "2002    390\n",
       "2001    385\n",
       "2010    359\n",
       "Name: count, dtype: int64"
      ]
     },
     "execution_count": 16,
     "metadata": {},
     "output_type": "execute_result"
    }
   ],
   "source": [
    "data[\"Year\"].value_counts(dropna =False)"
   ]
  },
  {
   "cell_type": "code",
   "execution_count": 17,
   "id": "977fca93",
   "metadata": {
    "execution": {
     "iopub.execute_input": "2024-07-28T15:31:49.874069Z",
     "iopub.status.busy": "2024-07-28T15:31:49.873062Z",
     "iopub.status.idle": "2024-07-28T15:31:49.878717Z",
     "shell.execute_reply": "2024-07-28T15:31:49.877520Z"
    },
    "papermill": {
     "duration": 0.017899,
     "end_time": "2024-07-28T15:31:49.880989",
     "exception": false,
     "start_time": "2024-07-28T15:31:49.863090",
     "status": "completed"
    },
    "tags": []
   },
   "outputs": [],
   "source": [
    "assert  data['Year'].notnull().all()"
   ]
  },
  {
   "cell_type": "markdown",
   "id": "c582b374",
   "metadata": {
    "papermill": {
     "duration": 0.008034,
     "end_time": "2024-07-28T15:31:49.897517",
     "exception": false,
     "start_time": "2024-07-28T15:31:49.889483",
     "status": "completed"
    },
    "tags": []
   },
   "source": [
    "assert test etmedir döndürmemesi doğruluk sebebi\n"
   ]
  },
  {
   "cell_type": "markdown",
   "id": "6debaab4",
   "metadata": {
    "papermill": {
     "duration": 0.008045,
     "end_time": "2024-07-28T15:31:49.913929",
     "exception": false,
     "start_time": "2024-07-28T15:31:49.905884",
     "status": "completed"
    },
    "tags": []
   },
   "source": [
    "value_counts() kaç tane var hesapla nullarıda göster drop"
   ]
  }
 ],
 "metadata": {
  "kaggle": {
   "accelerator": "none",
   "dataSources": [
    {
     "datasetId": 5452689,
     "sourceId": 9044297,
     "sourceType": "datasetVersion"
    }
   ],
   "dockerImageVersionId": 30746,
   "isGpuEnabled": false,
   "isInternetEnabled": false,
   "language": "python",
   "sourceType": "notebook"
  },
  "kernelspec": {
   "display_name": "Python 3",
   "language": "python",
   "name": "python3"
  },
  "language_info": {
   "codemirror_mode": {
    "name": "ipython",
    "version": 3
   },
   "file_extension": ".py",
   "mimetype": "text/x-python",
   "name": "python",
   "nbconvert_exporter": "python",
   "pygments_lexer": "ipython3",
   "version": "3.10.13"
  },
  "papermill": {
   "default_parameters": {},
   "duration": 6.613097,
   "end_time": "2024-07-28T15:31:50.544741",
   "environment_variables": {},
   "exception": null,
   "input_path": "__notebook__.ipynb",
   "output_path": "__notebook__.ipynb",
   "parameters": {},
   "start_time": "2024-07-28T15:31:43.931644",
   "version": "2.5.0"
  }
 },
 "nbformat": 4,
 "nbformat_minor": 5
}
